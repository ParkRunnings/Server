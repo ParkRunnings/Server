{
 "cells": [
  {
   "cell_type": "code",
   "execution_count": 1,
   "id": "b0730f6b",
   "metadata": {},
   "outputs": [],
   "source": [
    "import io\n",
    "import os\n",
    "import re\n",
    "import json\n",
    "import time\n",
    "import base64\n",
    "import logging\n",
    "import polyline\n",
    "\n",
    "from PIL import Image\n",
    "from typing import List\n",
    "from multiprocess import Pool\n",
    "\n",
    "from models.event import Event\n",
    "from models.course import Course, Coordinate\n",
    "from models.master import Master\n",
    "from models.state import State\n",
    "from models.exceptions import MapMatchError\n",
    "\n",
    "from utils.json_ import JSONEncoder\n",
    "from utils.storage import Storage, Codable\n",
    "\n",
    "import io\n",
    "import zipfile\n",
    "from bs4 import BeautifulSoup\n",
    "from collections import namedtuple"
   ]
  },
  {
   "cell_type": "code",
   "execution_count": 2,
   "id": "3892aeaf",
   "metadata": {},
   "outputs": [],
   "source": [
    "with Master.refresh(bucket=\"parkrun-au\") as master, Pool(20) as pool:\n",
    "    \n",
    "    master.events = [\n",
    "        event.get() for event in [\n",
    "            pool.apply_async(\n",
    "                master.refresh_event, \n",
    "                kwds={\"bucket\": master.bucket, \"data\": data}\n",
    "            ) for data in list(master)\n",
    "        ]\n",
    "    ]"
   ]
  },
  {
   "cell_type": "code",
   "execution_count": 3,
   "id": "51375340",
   "metadata": {},
   "outputs": [],
   "source": [
    "with Master.refresh(bucket=\"parkrun-au\", uuid=\"tests/master_a\") as master_test:\n",
    "    \n",
    "    master_test.events = master.events"
   ]
  },
  {
   "cell_type": "code",
   "execution_count": 4,
   "id": "b289c723",
   "metadata": {},
   "outputs": [],
   "source": [
    "with Master.refresh(bucket=\"parkrun-au\", uuid=\"tests/master_b\") as master_test:\n",
    "    \n",
    "    master_test.events = [e for e in master.events if e.uuid in [\n",
    "        \"618cb4d4-8687-5b12-a7c4-d3551b275ef5\", \n",
    "        \"46236ebe-65df-50c7-99b8-74735630d280\"\n",
    "    ]]"
   ]
  },
  {
   "cell_type": "code",
   "execution_count": 5,
   "id": "5851bab7",
   "metadata": {},
   "outputs": [],
   "source": [
    "with Master.refresh(bucket=\"parkrun-au\", uuid=\"tests/master_c\") as master_test:\n",
    "    \n",
    "    master_test.events = [e for e in master.events if e.uuid in [\n",
    "        \"618cb4d4-8687-5b12-a7c4-d3551b275ef5\"\n",
    "    ]]"
   ]
  },
  {
   "cell_type": "code",
   "execution_count": 6,
   "id": "eb01fe89",
   "metadata": {},
   "outputs": [],
   "source": [
    "with Master.refresh(bucket=\"parkrun-au\", uuid=\"tests/master_d\") as master_test:\n",
    "    \n",
    "    master_test.events = []"
   ]
  },
  {
   "cell_type": "code",
   "execution_count": 7,
   "id": "dcd8f63b",
   "metadata": {},
   "outputs": [],
   "source": [
    "with Master.refresh(bucket=\"parkrun-au\", uuid=\"tests/master_e\") as master_test:\n",
    "    \n",
    "    master_test.events = master.events[0:100]"
   ]
  },
  {
   "cell_type": "code",
   "execution_count": 8,
   "id": "79d38d05",
   "metadata": {},
   "outputs": [],
   "source": [
    "with Master.refresh(bucket=\"parkrun-au\") as master:\n",
    "    \n",
    "    master.events = "
   ]
  },
  {
   "cell_type": "code",
   "execution_count": 4,
   "id": "4198d55a",
   "metadata": {},
   "outputs": [
    {
     "data": {
      "text/plain": [
       "[Event(uuid='618cb4d4-8687-5b12-a7c4-d3551b275ef5', name='St Peters', country='Australia', latitude=-33.907658, longitude=151.18219, start='08:00', start_dst='08:00', timezone='Australia/Sydney', mid='zj7h2Fr7knm4.kcrGG0GOkgi0', version='1.0.1')]"
      ]
     },
     "execution_count": 4,
     "metadata": {},
     "output_type": "execute_result"
    }
   ],
   "source": [
    "[e for e in master.events if e.uuid == \"618cb4d4-8687-5b12-a7c4-d3551b275ef5\"]"
   ]
  },
  {
   "cell_type": "code",
   "execution_count": 2,
   "id": "51a711d6",
   "metadata": {},
   "outputs": [],
   "source": [
    "# Old Process\n",
    "# \n",
    "# with Master.refresh(storage=Storage(bucket=\"parkrun-au\")) as master:\n",
    "    \n",
    "#     for data in master:\n",
    "        \n",
    "#         event = Event.get(storage=storage, data=data)\n",
    "#         course = Course.get(storage=storage, event=event)\n",
    "#         state = State.refresh(storage=storage, event=event, course=course)\n",
    "        \n",
    "#         master.add(event=event)"
   ]
  },
  {
   "cell_type": "code",
   "execution_count": null,
   "id": "4fa4797b",
   "metadata": {},
   "outputs": [],
   "source": []
  }
 ],
 "metadata": {
  "kernelspec": {
   "display_name": "Python 3 (ipykernel)",
   "language": "python",
   "name": "python3"
  },
  "language_info": {
   "codemirror_mode": {
    "name": "ipython",
    "version": 3
   },
   "file_extension": ".py",
   "mimetype": "text/x-python",
   "name": "python",
   "nbconvert_exporter": "python",
   "pygments_lexer": "ipython3",
   "version": "3.10.6"
  }
 },
 "nbformat": 4,
 "nbformat_minor": 5
}
