{
 "cells": [
  {
   "cell_type": "code",
   "execution_count": 2,
   "id": "b0730f6b",
   "metadata": {},
   "outputs": [],
   "source": [
    "import os\n",
    "import re\n",
    "import enum\n",
    "import json\n",
    "import dataclasses\n",
    "\n",
    "from models.map import Map\n",
    "from models.event import Event\n",
    "from models.master import Master\n",
    "from models.country import Country, UnsupportedCountryError\n",
    "from models.base import Scraped\n",
    "from models.runner import Runner\n",
    "\n",
    "from utils.storage import Storage\n",
    "from utils.json import JSONEncoder"
   ]
  },
  {
   "cell_type": "code",
   "execution_count": 4,
   "id": "70b436eb",
   "metadata": {},
   "outputs": [],
   "source": [
    "r = Runner.scrape(number=\"4892470\")"
   ]
  },
  {
   "cell_type": "code",
   "execution_count": 5,
   "id": "f73e8b2b",
   "metadata": {},
   "outputs": [
    {
     "data": {
      "text/plain": [
       "{'number': '4892470',\n",
       " 'name': 'Adrien Cervera-Jackson',\n",
       " 'runs': '84',\n",
       " 'fastest': '19:06'}"
      ]
     },
     "execution_count": 5,
     "metadata": {},
     "output_type": "execute_result"
    }
   ],
   "source": [
    "r.json()"
   ]
  },
  {
   "cell_type": "code",
   "execution_count": 2,
   "id": "663cdc97",
   "metadata": {},
   "outputs": [],
   "source": [
    "storage = Storage(bucket=\"parkrun-au\")"
   ]
  },
  {
   "cell_type": "code",
   "execution_count": 3,
   "id": "241d0360",
   "metadata": {},
   "outputs": [
    {
     "data": {
      "text/plain": [
       "Master(events=[EventMini(uuid='e26c310c-aa40-5f92-abeb-7c9a7ab1a8f3', latitude=-27.471134, longitude=153.051636), EventMini(uuid='7d7a58ad-8c53-5757-8e4f-9b9b2e5a132e', latitude=-27.972706, longitude=153.428879), EventMini(uuid='6406579b-b9c2-5c39-8f19-c875a2ea6d0a', latitude=-28.166758, longitude=153.522781), EventMini(uuid='9f0c67b9-5c58-5b2d-97d7-910a2964b1cc', latitude=-27.885247, longitude=153.281709), EventMini(uuid='cf9bdefa-d8ce-5721-a66f-dbb4dc1df7a9', latitude=-27.442933, longitude=153.177898), EventMini(uuid='63b6d7b7-fe7d-53e2-bb71-19acfb58d80f', latitude=-27.23669, longitude=153.020729), EventMini(uuid='c07ce858-a32e-5d95-b445-df336efe2156', latitude=-26.702046, longitude=153.135488), EventMini(uuid='ef084abb-015c-5191-b343-2989c71402b6', latitude=-19.320306, longitude=146.73018), EventMini(uuid='a9131aa4-e233-5a21-8270-a23779eeddc9', latitude=-27.311291, longitude=153.068234), EventMini(uuid='f4fd71dd-d4c3-5a6a-a376-3f3696b1eb85', latitude=-27.478872, longitude=153.023962), EventMini(uuid='06919f79-e71a-5903-9e33-ed295f4501b9', latitude=-28.084627, longitude=153.410554), EventMini(uuid='b8746d9c-d540-53b4-a4a2-3beae6ddbac3', latitude=-27.56019, longitude=151.963926), EventMini(uuid='cb45161d-6232-543b-80da-5d0e9feda3e0', latitude=-27.404423, longitude=152.979298), EventMini(uuid='829a78a6-dd0a-515a-b401-b33398d12375', latitude=-26.40872, longitude=153.030388), EventMini(uuid='84468e19-7fe6-5b7c-9cde-bb0ce4176f83', latitude=-27.698831, longitude=153.192024), EventMini(uuid='bbbcc41b-3830-52c4-9f5f-67c3ce233600', latitude=-19.252326, longitude=146.70074), EventMini(uuid='2c628693-2139-5baf-a4a9-85d85b68d39a', latitude=-27.625421, longitude=152.764292), EventMini(uuid='f021c1e7-f02f-563a-a3d8-6ae694a82f14', latitude=-20.267153, longitude=148.711122), EventMini(uuid='42a9e2db-eecc-577c-bc46-386a184a1806', latitude=-27.570426, longitude=152.270476), EventMini(uuid='9a372327-e977-5a01-88ec-cc646120261a', latitude=-16.904574, longitude=145.763211), EventMini(uuid='e5b1b092-f775-58eb-af0b-8a99c8b04319', latitude=-27.539355, longitude=153.274298), EventMini(uuid='048c3667-9d4a-5cf7-87de-04ba9be2c598', latitude=-23.871873, longitude=151.238458), EventMini(uuid='93f5dbf1-43b6-546d-adfd-8c608d902f41', latitude=-27.542633, longitude=152.959235), EventMini(uuid='2ac265a4-3094-503a-9aa6-858f10ef1c13', latitude=-27.377306, longitude=152.949138), EventMini(uuid='d0fe5131-ca8a-5523-824f-727565ad33df', latitude=-28.209605, longitude=152.038465), EventMini(uuid='070047b6-3a20-5131-819f-5df3bd838a4f', latitude=-24.806914, longitude=152.456905), EventMini(uuid='a849ac9c-d308-5439-98e3-5bcbf2306401', latitude=-23.531435, longitude=148.164253), EventMini(uuid='c2ffce57-1270-5183-a8d0-6b19787f6229', latitude=-23.400579, longitude=150.491432), EventMini(uuid='383d4510-60a2-5284-88bb-52fb5f6d3abd', latitude=-27.188036, longitude=151.262339), EventMini(uuid='e4673d46-517a-516d-9613-a14430df73b3', latitude=-28.086682, longitude=153.364098), EventMini(uuid='7d6725b7-e55d-532d-a42f-5439c1b69ab6', latitude=-21.152238, longitude=149.155797), EventMini(uuid='44ff396b-6c32-5887-90bc-0e08d591dd52', latitude=-26.567166, longitude=148.789054), EventMini(uuid='d44f2bc3-f7c1-565c-9615-d7f4d4432be5', latitude=-25.283163, longitude=152.90367), EventMini(uuid='f6740b72-ca5e-53c6-9ab4-4948072e2635', latitude=-27.49331, longitude=153.118679), EventMini(uuid='bac35991-c392-5f01-b689-12537e082a0d', latitude=-27.620775, longitude=153.039287), EventMini(uuid='a86b11c7-371a-55da-8637-ab21fa6fdf45', latitude=-28.65183, longitude=151.931781), EventMini(uuid='ca27a905-3fae-5992-aa24-19c038d2e50f', latitude=-26.829014, longitude=153.120795), EventMini(uuid='d996954e-dec0-5ca3-889d-c05a5af6d75d', latitude=-27.941377, longitude=153.193434), EventMini(uuid='f960d03d-49cb-56bb-b1b0-fdbd94458de6', latitude=-23.128177, longitude=150.739086), EventMini(uuid='ecda720a-f03d-5d53-9b7a-861504ac2623', latitude=-27.498722, longitude=153.042469), EventMini(uuid='c3e54c53-eedf-5afd-9007-fb0c4171c172', latitude=-27.560975, longitude=153.103468), EventMini(uuid='67d7a7a9-b1e4-53a9-9267-fdaf3c51478b', latitude=-20.702319, longitude=139.492772), EventMini(uuid='87b67bcb-ebf4-5144-bd93-2d524ecfd7b8', latitude=-27.80288, longitude=153.10409), EventMini(uuid='b9e4b470-a457-5180-bd2a-551600b1ce00', latitude=-27.712352, longitude=151.641106), EventMini(uuid='3fc8b0c3-d99c-5dbf-90e5-e2feb279d6b5', latitude=-27.07755, longitude=152.973187), EventMini(uuid='4fba5cfd-f8c5-5f3c-a968-476183e967fb', latitude=-27.521405, longitude=153.186858), EventMini(uuid='55f8ebcf-140c-5e86-ae74-4bceaa311a88', latitude=-28.018497, longitude=153.412292), EventMini(uuid='97d8f081-043a-5e43-9d7d-ca9ffc722de1', latitude=-27.235456, longitude=153.114827), EventMini(uuid='e7b0e3b3-9f44-5595-9ca5-0aa3aa2aa692', latitude=-27.665606, longitude=153.077193), EventMini(uuid='fe31b779-6037-5ad5-87ef-aaefe0d874a7', latitude=-27.495122, longitude=153.017796), EventMini(uuid='5d6768eb-45a8-5ab9-b674-c74a3b221199', latitude=-27.37896, longitude=153.033507), EventMini(uuid='fe93eb40-305f-5a16-9415-ffc9b2764dd0', latitude=-17.275414, longitude=145.471686), EventMini(uuid='0b18fe5c-33da-5f7d-96cb-c2a9a22f151e', latitude=-26.708909, longitude=153.113665), EventMini(uuid='78cdd3e9-e474-5265-81c1-f68df70ac8c9', latitude=-27.306906, longitude=152.955385), EventMini(uuid='f9479492-9c13-5aaa-9413-e385670acff0', latitude=-25.533689, longitude=152.686507), EventMini(uuid='fde382e0-dd2c-5af8-b458-41c2513523bd', latitude=-28.54951, longitude=150.307043), EventMini(uuid='4e298111-2bae-5782-854a-a126f976c8c1', latitude=-27.61964, longitude=152.967745), EventMini(uuid='e76b3dbe-a02c-5504-82c6-e29bccf9065e', latitude=-20.345551, longitude=148.95513), EventMini(uuid='bb66dd88-b10c-5c1b-b592-f87781c75fbd', latitude=-27.442334, longitude=152.972975), EventMini(uuid='290ddf37-4564-5e19-a4e6-9c890a20471d', latitude=-27.273406, longitude=152.974425), EventMini(uuid='a24cf1a0-6a1c-5d5c-b54b-f4efd15e2e97', latitude=-27.885082, longitude=153.396218), EventMini(uuid='e611e2aa-c486-5311-8be7-1471a3d733b9', latitude=-28.000737, longitude=153.417365), EventMini(uuid='9d0df989-d67d-5c4b-8747-5b283906bc18', latitude=-27.453643, longitude=151.938702), EventMini(uuid='598e3937-02dc-5678-bc74-da83b204468a', latitude=-26.594251, longitude=152.973543), EventMini(uuid='6115b8e5-19c8-5d4e-bbf6-60ed00428e60', latitude=-27.593935, longitude=153.230817), EventMini(uuid='8e4f4035-003a-5e7c-8afb-b4ff8c897fea', latitude=-27.406927, longitude=153.046297), EventMini(uuid='740020a4-3f8d-5220-998f-261c79ba1669', latitude=-19.985467, longitude=148.257052), EventMini(uuid='298d7df7-1294-5689-b24c-18781a619621', latitude=-27.673493, longitude=153.155785), EventMini(uuid='f03c10ce-17a9-5770-87e5-49a3c7c5bc1f', latitude=-12.64068, longitude=141.865454), EventMini(uuid='25f926aa-5b43-542c-82d7-c05b30db4686', latitude=-27.598691, longitude=153.147211), EventMini(uuid='58e55670-8511-5023-97ca-50fc94f78598', latitude=-23.93798, longitude=151.364976), EventMini(uuid='f704d794-ccc3-5443-8af9-9bf0317d0115', latitude=-26.318523, longitude=151.872411), EventMini(uuid='c67ab490-644b-5425-ba03-895dbabe1308', latitude=-27.676652, longitude=152.849745), EventMini(uuid='1fa9c1b3-ceba-5da7-ae08-74410df05f96', latitude=-24.86835, longitude=152.330781), EventMini(uuid='0469d720-9b4e-50e8-804d-4d50db741dc9', latitude=-27.614582, longitude=153.307539), EventMini(uuid='b2dd56cb-889e-5879-b98d-1a2b22c3f35c', latitude=-27.522987, longitude=153.101744), EventMini(uuid='274d7f45-3219-5b5a-8716-f076fcb05850', latitude=-27.739202, longitude=152.922846), EventMini(uuid='43137630-d22b-53f0-9596-83dc306672f7', latitude=-27.429333, longitude=151.720815), EventMini(uuid='452df79d-365f-5822-909c-359d5eac2f5b', latitude=-20.70873, longitude=140.519814), EventMini(uuid='bca0589f-eb4c-5cd2-9f19-a23a3ac8b108', latitude=-27.468558, longitude=153.193225), EventMini(uuid='0c49c413-557a-5bd4-85d2-f089e2e0a524', latitude=-26.656701, longitude=150.180284), EventMini(uuid='1e111c6e-4064-5f57-a8f3-5e9e2aa16790', latitude=-28.044422, longitude=148.568244), EventMini(uuid='573095f4-e6a3-5ee7-9ffd-3fc3594aae0c', latitude=-27.106368, longitude=152.998427), EventMini(uuid='e3a9ee2f-5c7f-5b1e-abed-d8f11ffd7afe', latitude=-27.361066, longitude=153.041015), EventMini(uuid='3072949f-a07b-524e-93e1-94eebad2c5d0', latitude=-18.263036, longitude=146.025909), EventMini(uuid='9a5476f5-58ac-5f85-b529-2ed5c6dae61e', latitude=-19.584321, longitude=147.401024), EventMini(uuid='a236455e-1a44-56fb-9235-26468909e229', latitude=-27.441334, longitude=153.009807), EventMini(uuid='4f577c69-8ce0-5a29-8e24-a2ff3fa266c3', latitude=-19.302328, longitude=146.782361), EventMini(uuid='4c0fce27-16bb-55a2-b5c4-de4dc8b0a055', latitude=-27.81877, longitude=153.306901), EventMini(uuid='562ef799-3587-5df7-b1bc-5708229b7d4c', latitude=-27.594604, longitude=151.956346), EventMini(uuid='21380b0c-1ab9-53ae-963b-3a5b68834184', latitude=-27.121296, longitude=152.802517), EventMini(uuid='1dd30988-a3a1-553a-88ea-5f44df0ae1fe', latitude=-20.274708, longitude=148.700296), EventMini(uuid='9bc64ddb-e0d9-5feb-9bfa-b8b3410e6434', latitude=-27.401736, longitude=152.622246), EventMini(uuid='c8d9a48f-f268-5b59-b5a0-0b757cc9fbe4', latitude=-27.609314, longitude=153.011071), EventMini(uuid='ca46f7f3-2f19-5b52-9d8b-c65fae347bfc', latitude=-26.615149, longitude=153.100818), EventMini(uuid='9ef0dfa3-da80-5589-ab0d-7114c8f536b2', latitude=-26.171845, longitude=152.680084), EventMini(uuid='4fc8e9ea-b2ec-5084-85f8-bf21b9f9e7b1', latitude=-26.806829, longitude=153.080945), EventMini(uuid='56d4628c-c9fc-5d16-9a9d-9de49e90b5ec', latitude=-26.947949, longitude=152.562585), EventMini(uuid='b12e7849-87c5-5d64-b84a-946a62443c21', latitude=-26.412576, longitude=146.244782), EventMini(uuid='ebe3f517-4349-56b1-8ce9-82e50c2055e1', latitude=-26.986817, longitude=152.823678), EventMini(uuid='be4f6890-d6f3-5427-a70e-9970c278f5eb', latitude=-26.736553, longitude=150.623683), EventMini(uuid='d852cf6d-d28f-50d1-8005-3b5d9bc38278', latitude=-27.171876, longitude=152.94537), EventMini(uuid='7535e978-920a-548b-a677-9b96e7477ec7', latitude=-26.681999, longitude=151.993762), EventMini(uuid='a88d5ee8-d1ef-5101-8270-de7437af37bd', latitude=-22.81841, longitude=147.642912), EventMini(uuid='1c532e06-f926-5c68-b3cf-e33ea93b5152', latitude=-26.11661, longitude=149.958153), EventMini(uuid='2e8169aa-3bcc-5cb6-b773-247d7937fd4e', latitude=-18.656953, longitude=146.149126), EventMini(uuid='ddb57404-4816-5659-9a50-00fa21826974', latitude=-27.065817, longitude=153.145072), EventMini(uuid='4d29a3e5-a8ac-5f85-8635-41e60097ba82', latitude=-23.436746, longitude=144.243624), EventMini(uuid='aa2596e6-3a69-5892-9ca8-b885f221ee45', latitude=-26.760218, longitude=152.860806), EventMini(uuid='b051fc71-0c66-58b2-a88c-3019e5ebdfb2', latitude=-25.624063, longitude=151.611063), EventMini(uuid='ed23c250-7390-5045-9c90-da152dd06af9', latitude=-27.994529, longitude=153.396886), EventMini(uuid='3bf8a077-a427-5c1e-befd-78d4a972ffa3', latitude=-27.441892, longitude=152.978964), EventMini(uuid='663a691d-6c53-561d-9d36-5ca22dd067c3', latitude=-27.681056, longitude=152.80014), EventMini(uuid='d98047fd-8d8f-5b71-828f-6d08270d1b27', latitude=-27.211218, longitude=153.073387), EventMini(uuid='3faa60db-cd94-529a-b6b2-e5f81f219e00', latitude=-26.164413, longitude=151.600195), EventMini(uuid='4d3d8c92-2176-5260-9a8b-206c849cac0b', latitude=-27.583123, longitude=153.293958), EventMini(uuid='5d0953f3-2a9f-5084-9ebc-6b47083654d7', latitude=-16.899012, longitude=145.708784), EventMini(uuid='41920a17-9ee1-545e-9094-30063207ae9e', latitude=-20.044688, longitude=146.273413), EventMini(uuid='618cb4d4-8687-5b12-a7c4-d3551b275ef5', latitude=-33.907658, longitude=151.18219), EventMini(uuid='8653b899-6ec9-5f68-9b26-b1e04a00e69c', latitude=-32.914566, longitude=151.76144), EventMini(uuid='326f5adf-92be-524f-80a0-348540964cea', latitude=-33.819767, longitude=151.065488), EventMini(uuid='d2db4b9b-d09a-58f5-8216-e7cc90ed0db3', latitude=-33.766483, longitude=151.282339), EventMini(uuid='99509495-f942-59dc-bc2e-725ea77d6a95', latitude=-28.277477, longitude=153.578901), EventMini(uuid='8a987d3a-2086-521c-8362-c40ccabf4068', latitude=-32.972596, longitude=151.612487), EventMini(uuid='30f3698a-232c-5057-8a2d-469e42db199a', latitude=-32.742887, longitude=152.170644), EventMini(uuid='10e07627-98bd-5955-8531-5f491ef0373f', latitude=-34.333372, longitude=150.924554), EventMini(uuid='70a4da89-94ad-5b1d-bc46-ec75cadf3b93', latitude=-34.413116, longitude=150.901723), EventMini(uuid='0390baeb-f350-5d20-b351-4d09963976b7', latitude=-35.712112, longitude=150.185995), EventMini(uuid='b53cacc7-145c-5c4d-bd08-8c7f6ad25e90', latitude=-31.099559, longitude=150.936905), EventMini(uuid='891358b3-cd1e-54fb-904f-03585cfe23d0', latitude=-32.794952, longitude=151.352856), EventMini(uuid='a55c3f49-b9ca-51d5-86d8-6730310e562d', latitude=-29.77388, longitude=151.10897), EventMini(uuid='f22fa3b5-7178-5313-88cc-ed139e457eee', latitude=-33.806252, longitude=151.245989), EventMini(uuid='576fa718-9a44-563d-b092-c7d20473e28c', latitude=-30.491998, longitude=151.639419), EventMini(uuid='b06f62a5-ef26-5c5a-82e2-bd63ce7967de', latitude=-33.414176, longitude=149.586917), EventMini(uuid='61a82b9d-d6bf-5c4a-b47d-5ab3fade0109', latitude=-31.42754, longitude=152.916551), EventMini(uuid='7b62e20e-94f9-55e0-8c5a-1df3c783ed60', latitude=-32.932526, longitude=151.699755), EventMini(uuid='c6edd929-117f-51b0-aac1-c14674cf07d5', latitude=-36.0873, longitude=146.88886), EventMini(uuid='51ba9603-1762-5a78-9a6f-2384153901c3', latitude=-32.884131, longitude=151.620206), EventMini(uuid='ddecc584-86ff-5dc9-90c5-7fff6a759872', latitude=-33.030093, longitude=151.642302), EventMini(uuid='c9621ff0-cd08-5273-bb87-8b8c67530f8b', latitude=-32.565281, longitude=151.160776), EventMini(uuid='35024c6e-19c1-506f-a974-7d9aefbee243', latitude=-29.435742, longitude=153.357271), EventMini(uuid='8369546a-d23c-565f-8fef-7cf3c7fe5d8a', latitude=-33.913708, longitude=151.116857), EventMini(uuid='fa6ed4bf-08d7-5db4-b4f5-81055c0b870b', latitude=-30.295687, longitude=153.1376), EventMini(uuid='8f7f5362-159f-5092-94cd-c59146c18e37', latitude=-34.018301, longitude=150.814819), EventMini(uuid='d0999a1e-3d0a-56fc-833b-568429eafb25', latitude=-35.348151, longitude=149.238801), EventMini(uuid='7d7bd04c-4689-56ba-b85a-ab70cb7ae5f1', latitude=-33.725922, longitude=150.685741), EventMini(uuid='57294d61-9aae-5057-bc13-2f2baa1fcd4d', latitude=-33.679301, longitude=150.911109), EventMini(uuid='d6375b17-985e-5c03-8812-e69b8d1f80ce', latitude=-33.426328, longitude=151.293178), EventMini(uuid='5b5496ef-a7fd-5cec-b31d-dbe63f052739', latitude=-33.713629, longitude=150.426901), EventMini(uuid='068e6ac8-3f5c-52ca-9e4e-9504cbae4730', latitude=-32.589229, longitude=149.586719), EventMini(uuid='9e0343fb-1139-55c4-9847-aa316fd00153', latitude=-34.602608, longitude=150.862868), EventMini(uuid='1e2bcdc7-6107-515c-b8f4-31cc2e22998c', latitude=-34.040937, longitude=151.161836), EventMini(uuid='07eb65aa-127f-5c99-8e0c-cc1fb93fe602', latitude=-28.812589, longitude=153.270029), EventMini(uuid='01bcce00-0fbe-5424-9c18-60e431429321', latitude=-33.812714, longitude=148.703733), EventMini(uuid='ad199978-f428-5629-ba54-fa0dd4915c6e', latitude=-32.919273, longitude=151.78442), EventMini(uuid='9265be86-a05b-5048-b677-39385f7f3821', latitude=-35.049429, longitude=150.677109), EventMini(uuid='8f172570-9297-5eeb-9186-4e2a51439443', latitude=-30.33885, longitude=149.755908), EventMini(uuid='0e6a1cf8-65d9-555a-9a18-64686967df58', latitude=-32.94159, longitude=151.767517), EventMini(uuid='1dc79ba1-a368-5aef-abf4-0d9e318ffc83', latitude=-31.910271, longitude=152.468625), EventMini(uuid='9914e910-ecba-59f2-b43f-dcbdf3c84f8d', latitude=-32.256257, longitude=148.591034), EventMini(uuid='ddb62f61-7fa3-585f-90e9-39b33941ab30', latitude=-34.016364, longitude=151.015082), EventMini(uuid='8fc81aa4-56a6-5450-b6cb-eab589c0a814', latitude=-32.054009, longitude=150.856114), EventMini(uuid='722c6538-f66c-5332-949f-3df4f0612606', latitude=-34.736445, longitude=149.706096), EventMini(uuid='f9c89563-f8de-5b52-ac47-c22651a41ed5', latitude=-33.909244, longitude=150.964108), EventMini(uuid='85e0588a-f54b-578f-aedc-dd3aceea1032', latitude=-33.705952, longitude=150.909187), EventMini(uuid='0b0bd783-0db8-5d1f-bad4-64c61de72ead', latitude=-33.847462, longitude=151.081803), EventMini(uuid='7ebb5eed-d3c1-55e5-bf39-73c5221d4f19', latitude=-32.894393, longitude=151.702098), EventMini(uuid='15f0da70-a882-5ecc-be6a-282c99e54d65', latitude=-36.668409, longitude=149.852269), EventMini(uuid='9e3fad0c-8749-5685-bdb9-019b6462e79a', latitude=-29.643847, longitude=152.920487), EventMini(uuid='b47c1516-a201-5918-950d-4319a78ac056', latitude=-32.761601, longitude=151.738939), EventMini(uuid='c9b0b240-28ae-5c95-9a0a-ba246177a249', latitude=-33.945673, longitude=150.993483), EventMini(uuid='aade7f3e-3518-5116-987e-1ab8799f5566', latitude=-33.338401, longitude=151.493202), EventMini(uuid='a4e3d69e-ab3a-53ac-aaa7-afce0fa16516', latitude=-35.170935, longitude=147.378216), EventMini(uuid='f84458e2-cf93-5a98-86e0-0e7503e5a930', latitude=-31.452159, longitude=152.744034), EventMini(uuid='23b76150-0505-507c-8865-e71aa90f47a7', latitude=-29.46707, longitude=149.843183), EventMini(uuid='fa29d512-8754-5ad2-adfd-36c4dd4a82a7', latitude=-33.325825, longitude=149.089749), EventMini(uuid='dec8a97f-a2d7-5a42-8bc8-7e64dabb8808', latitude=-33.642734, longitude=151.043648), EventMini(uuid='c18ac8af-5d52-5006-be43-420670454dda', latitude=-33.811705, longitude=151.193171), EventMini(uuid='a4285753-8489-5ea4-83a7-764a08eceb65', latitude=-33.760087, longitude=150.679885), EventMini(uuid='bc0533e0-9560-50aa-9ade-3534341f728d', latitude=-33.97993, longitude=151.229992), EventMini(uuid='0823bdd1-1e3c-5862-aa61-beb8d2d574d6', latitude=-32.180174, longitude=152.519554), EventMini(uuid='07361342-6d43-520e-baf5-53cd749e0880', latitude=-33.783724, longitude=150.868394), EventMini(uuid='e96ef982-31c2-5c77-8aa8-adb81c87a768', latitude=-33.494173, longitude=150.151201), EventMini(uuid='87eb132b-4ce3-5727-ae4e-e8eb71ac64aa', latitude=-28.869637, longitude=153.576356), EventMini(uuid='1967a229-832e-5e07-bc3f-0afb02265c75', latitude=-33.995775, longitude=151.144928), EventMini(uuid='cd62ba69-50c0-5084-a5b7-b0c7c3c5e481', latitude=-30.497475, longitude=153.022849), EventMini(uuid='0506e540-d1ce-5be5-b707-8b89450b7a74', latitude=-33.604814, longitude=150.774321), EventMini(uuid='1b3e5494-8e27-5748-a598-7527855a68e5', latitude=-33.229509, longitude=151.530089), EventMini(uuid='a2fd8baa-0ba6-520c-a92b-63ecc201cfb0', latitude=-33.882504, longitude=151.14457), EventMini(uuid='bf5bd2ba-d0b4-53d3-b692-8e1cdcd68104', latitude=-33.705633, longitude=151.177321), EventMini(uuid='fae5adb2-9609-5bd4-ba9c-a38764be4c59', latitude=-34.16566, longitude=150.610264), EventMini(uuid='5bbbea0b-43a9-5033-b113-5e6b5f579e55', latitude=-31.509832, longitude=145.831405), EventMini(uuid='bfc52fc5-235b-5d8a-ace3-f3d1c66a5feb', latitude=-33.830396, longitude=151.211772), EventMini(uuid='8faf2e5d-036b-53e5-aac6-5639de4bc02b', latitude=-33.484787, longitude=151.336038), EventMini(uuid='2942bdb5-1cc9-5e97-a08a-b42f908cb94f', latitude=-35.422759, longitude=149.791222), EventMini(uuid='e718ab78-7203-5bce-9e93-62c3b0c7adf6', latitude=-34.053665, longitude=150.700727), EventMini(uuid='ec0d6f1e-8f4a-5c90-bfba-7c1907cf6362', latitude=-30.883931, longitude=153.042179), EventMini(uuid='46236ebe-65df-50c7-99b8-74735630d280', latitude=-33.898808, longitude=151.228564), EventMini(uuid='bec138ea-0116-5ed1-9f9c-464aa9e91d7b', latitude=-30.09756, longitude=145.92572), EventMini(uuid='b0882129-9a71-54be-b1e7-c098cce5ac26', latitude=-32.246949, longitude=148.236598), EventMini(uuid='a9696aa9-84a2-5ee7-9dac-048221e44aa2', latitude=-28.867591, longitude=153.051164), EventMini(uuid='0ebe719a-d454-5adb-8818-085dbb87ac4f', latitude=-31.911528, longitude=141.483931), EventMini(uuid='9098a108-c8ce-54de-9560-9ecad1261222', latitude=-33.755343, longitude=150.738658), EventMini(uuid='e11d9945-fc2b-5821-8e95-a682a2073c55', latitude=-34.838474, longitude=148.909794), EventMini(uuid='128322cb-c2d8-5ab7-8754-2c82617a7a42', latitude=-32.00456, longitude=151.953594), EventMini(uuid='51411079-66cd-5c73-b9df-c3f00ae668aa', latitude=-30.981818, longitude=151.597579), EventMini(uuid='03d4d91f-2a85-5503-99cf-225e44a25a91', latitude=-34.273904, longitude=146.074443), EventMini(uuid='58510a52-bab5-5be8-b41f-7f86021c0483', latitude=-33.948703, longitude=150.91369), EventMini(uuid='09fa28f9-7de3-5959-8752-afaddd789cb5', latitude=-33.126723, longitude=148.18147), EventMini(uuid='7d5e6f39-820d-572a-9dd1-97820b969a48', latitude=-33.75943, longitude=150.79587), EventMini(uuid='1ea9275a-6907-553b-b96d-929e20af0f28', latitude=-33.088354, longitude=151.463247), EventMini(uuid='b978e1a3-b3a2-5590-9a6c-fb566e8628ba', latitude=-31.636004, longitude=152.794806), EventMini(uuid='13e86c30-c4e3-5144-806c-5c9654792f98', latitude=-34.556093, longitude=146.411376), EventMini(uuid='e3b0a6f8-e6cd-55e2-93c9-45fe5c99d867', latitude=-35.519255, longitude=144.959987), EventMini(uuid='8c82800b-0f8c-5a48-94c5-8d9960eecc68', latitude=-30.743124, longitude=150.73018), EventMini(uuid='a86eb008-19a1-531b-9866-5c222258047c', latitude=-33.837954, longitude=151.075107), EventMini(uuid='7c0eba1c-1c2e-550e-b350-029f81d3a626', latitude=-36.932932, longitude=149.876361), EventMini(uuid='7a01dcd8-7840-51d5-a7ee-acb59834ed0f', latitude=-32.255338, longitude=150.895351), EventMini(uuid='0fb2a62a-6f11-570e-b935-7f4f674bddc1', latitude=-36.433908, longitude=148.616972), EventMini(uuid='ae554cf2-e1d3-52c9-96b1-0cc81d39a909', latitude=-37.843521, longitude=144.96312), EventMini(uuid='bb7f48d6-50f7-537b-bcde-cf094526f5f9', latitude=-38.166457, longitude=144.331179), EventMini(uuid='7e630734-872e-5af1-ba2b-6efa233fa48e', latitude=-36.390858, longitude=145.396146), EventMini(uuid='53eb74fc-01be-52aa-9d74-7bae0a23290c', latitude=-38.392862, longitude=142.47937), EventMini(uuid='2c2366b3-01d7-53b3-8b6f-3c8961170074', latitude=-37.59106, longitude=144.903713), EventMini(uuid='a1018408-4c80-566d-9207-6d65bfb63b23', latitude=-38.307311, longitude=145.196651), EventMini(uuid='c73b387c-6146-5ba9-a648-e78c9e745188', latitude=-37.673576, longitude=145.153249), EventMini(uuid='f7591f08-4c00-5396-97f7-adb50fbdf722', latitude=-38.267313, longitude=144.512783), EventMini(uuid='fb8fb376-1685-5a6d-a01d-8d83bdf8610e', latitude=-38.062069, longitude=145.322932), EventMini(uuid='dc852de5-62e8-57a6-ab84-ad6c91b767e8', latitude=-37.862086, longitude=144.72952), EventMini(uuid='891556da-dc0f-5af7-a329-f9e513e407b8', latitude=-37.556649, longitude=143.820637), EventMini(uuid='9fa5ae85-9b62-5304-8c0a-390e2eb177fc', latitude=-37.746092, longitude=145.133986), EventMini(uuid='8fe7d158-7c21-557f-9056-f8d437898b58', latitude=-38.327281, longitude=144.326903), EventMini(uuid='def1d459-3516-5c17-9804-105933b499bb', latitude=-37.879944, longitude=147.994104), EventMini(uuid='a543116e-e313-5b29-a83a-29830c0d4ec5', latitude=-37.766218, longitude=145.357071), EventMini(uuid='94ff4e97-0a4a-5263-b34d-39616b1959b1', latitude=-38.114103, longitude=147.078273), EventMini(uuid='961c017c-381f-5956-96d0-692dfc3ace31', latitude=-36.772141, longitude=144.312232), EventMini(uuid='ff4e4e73-8809-5ab1-a38b-d4f091bdeaf0', latitude=-37.770632, longitude=144.897858), EventMini(uuid='b6573e0f-5a9b-5025-80a5-dd2379590f85', latitude=-37.737592, longitude=142.040024), EventMini(uuid='0d4da288-b663-5665-97f9-d3d25c7041b9', latitude=-38.06462, longitude=145.463839), EventMini(uuid='71b79dea-c00a-58e9-b5a9-2a83a52be863', latitude=-36.351774, longitude=146.329944), EventMini(uuid='ebf205c0-a622-5fc9-aaf0-6104daab21ae', latitude=-37.714776, longitude=144.583229), EventMini(uuid='3147a7f6-b176-5375-bc11-b0e4468f840e', latitude=-37.991559, longitude=145.273622), EventMini(uuid='68627d89-5552-5860-b082-9f5d9e661104', latitude=-38.639515, longitude=145.719625), EventMini(uuid='fd4cd88c-dd28-5e12-9aa5-d3adc9b226cd', latitude=-37.784837, longitude=144.961755), EventMini(uuid='a48891f9-ed10-583f-8917-3ac70dbd2086', latitude=-37.727547, longitude=144.834123), EventMini(uuid='e6818eb3-8d2b-55a9-82f2-3c63a9a55587', latitude=-37.733811, longitude=144.968861), EventMini(uuid='210c0b83-3e6f-545b-8d6b-bc54f7a61f2c', latitude=-38.189632, longitude=146.53648), EventMini(uuid='3d65571a-e537-5436-816b-0f215389b6a6', latitude=-38.151043, longitude=145.932929), EventMini(uuid='2534c52f-a36c-543f-bfa9-a3805d1a15ba', latitude=-37.052419, longitude=146.093889), EventMini(uuid='d7bdaa2e-7ebf-5dfc-af0d-c1100efcba29', latitude=-37.897912, longitude=145.193976), EventMini(uuid='7f847f9c-1ef2-5d96-9ccc-868914329f16', latitude=-37.279321, longitude=144.724258), EventMini(uuid='7b34ffb3-13ef-50c6-9d10-1bfab388cf89', latitude=-38.498822, longitude=145.340674), EventMini(uuid='433f76e8-cd36-5265-9830-8b99a202d990', latitude=-37.875236, longitude=144.811911), EventMini(uuid='6932abd6-e55f-5a1e-815a-8487cd8c1b0a', latitude=-37.050794, longitude=144.217649), EventMini(uuid='bf8e372f-5207-59fe-a537-6d1a932aad1b', latitude=-37.881655, longitude=144.634532), EventMini(uuid='62a22006-7735-5b96-8c9b-ad91d6d089df', latitude=-38.312871, longitude=146.422465), EventMini(uuid='1f4113b0-6725-5579-a0e8-abf15ce5868a', latitude=-37.823487, longitude=147.632774), EventMini(uuid='11ac6970-ed1e-5808-bc87-635a632a063f', latitude=-37.80083, longitude=145.008858), EventMini(uuid='aae1115f-51f7-5b0e-b553-4bda840b254f', latitude=-37.668084, longitude=144.985422), EventMini(uuid='325ac8cb-9eaa-5065-a58d-a1fcc1c9d266', latitude=-38.354785, longitude=141.60446), EventMini(uuid='834532c7-2a33-5a28-8930-385847942c0e', latitude=-35.913461, longitude=145.668554), EventMini(uuid='96583a19-606b-56b5-b821-25170c3b7fc7', latitude=-37.953582, longitude=144.40047), EventMini(uuid='1e7f8d7f-60fd-56db-9e8c-103914235002', latitude=-38.049247, longitude=145.12656), EventMini(uuid='012572fa-cbb2-52a6-9cb0-73a431a2159d', latitude=-38.026521, longitude=145.339808), EventMini(uuid='a6db60f9-2375-50d0-98eb-3c77727f5bdb', latitude=-37.940079, longitude=145.086858), EventMini(uuid='926a0dd5-3d19-5227-b1a3-ec5af0f77429', latitude=-35.809232, longitude=144.223054), EventMini(uuid='f0d78d74-b78f-528f-973f-07a461f1ca94', latitude=-38.389932, longitude=142.229977), EventMini(uuid='027e3506-0694-5137-936d-d6f25e292edd', latitude=-37.811673, longitude=145.21251), EventMini(uuid='2de2f12d-8d3d-5a0a-9cc6-c7ea53d1f6f2', latitude=-38.178663, longitude=146.270714), EventMini(uuid='f889e04c-a7ce-5e14-836e-310963248567', latitude=-37.721239, longitude=145.034293), EventMini(uuid='e5897472-f7a1-5ff6-af4f-027ac33fa554', latitude=-37.279712, longitude=142.928756), EventMini(uuid='92005fcf-df4b-5af0-bc08-ae21d55559ea', latitude=-36.139104, longitude=144.739213), EventMini(uuid='371a4eea-172f-5c23-83c1-5c0abeea3a9f', latitude=-38.483074, longitude=142.977527), EventMini(uuid='f79ef01f-5706-5446-87be-fafc150ee689', latitude=-36.736278, longitude=147.174015), EventMini(uuid='74665389-0335-5bbb-9bd2-5b7355d789f2', latitude=-37.593706, longitude=145.100493), EventMini(uuid='a0d30b8b-55fc-5ece-9748-2a52392a2d50', latitude=-37.840109, longitude=144.870716), EventMini(uuid='d171fb98-5ce7-5e39-80b8-151675b72d1a', latitude=-38.063066, longitude=144.142907), EventMini(uuid='6a1b4094-dee9-57ed-8469-f819a86c7fe2', latitude=-38.113934, longitude=144.654211), EventMini(uuid='9ddd338d-46a3-58a2-b61a-322a5fa73233', latitude=-37.584562, longitude=144.741992), EventMini(uuid='f7350226-6c4f-558b-902a-eafe429084f4', latitude=-38.072157, longitude=145.249088), EventMini(uuid='63cd4c8b-d00b-5f7f-977c-67d6dd746f2f', latitude=-38.547585, longitude=145.947772), EventMini(uuid='dff9dba2-cf30-5529-852c-e3aa8eff9fb9', latitude=-37.845344, longitude=145.114787), EventMini(uuid='bb683e8e-0faa-50db-9eff-0490152243ae', latitude=-36.743803, longitude=146.978), EventMini(uuid='2feb709c-e5e1-5e87-88c0-7bf87f3f368c', latitude=-36.338609, longitude=141.645653), EventMini(uuid='a88de4bf-c7c0-5a19-969c-a4f5d163f745', latitude=-38.354221, longitude=144.905291), EventMini(uuid='bab621c5-c5da-5b2f-a023-86362d5a54d1', latitude=-36.752767, longitude=145.573825), EventMini(uuid='f8e24874-09cc-51cb-ac79-4f2bc401d08b', latitude=-37.74439, longitude=145.13425), EventMini(uuid='7a6c4d64-1dd6-5ee1-814f-0d03fc83ac9b', latitude=-36.136018, longitude=146.874752), EventMini(uuid='f5ea9641-42b2-5358-8628-d7e0f582ef54', latitude=-38.147322, longitude=144.378578), EventMini(uuid='3662ba3c-95dd-5d13-96b5-9a49e9b6c175', latitude=-36.722724, longitude=142.202555), EventMini(uuid='ff9e0558-8118-5965-aedc-e95756e80a11', latitude=-38.021647, longitude=145.251726), EventMini(uuid='5dc1e999-aed8-5a1b-985d-d3afa80bb8fa', latitude=-34.175887, longitude=142.162215), EventMini(uuid='c230a540-2418-5449-a6a7-2921f68d05cf', latitude=-38.543524, longitude=143.978708), EventMini(uuid='f6675f4f-a645-53a9-98d8-c5cc07f529c9', latitude=-37.923408, longitude=145.335724), EventMini(uuid='185acb6f-1cad-5ce3-8db7-c685b6165143', latitude=-38.400561, longitude=146.16502), EventMini(uuid='d3eafdcc-0c73-527f-8734-f87501ffe76d', latitude=-38.078218, longitude=145.342965), EventMini(uuid='1f25a295-3107-5722-955f-1489124763c3', latitude=-37.354683, longitude=144.531445), EventMini(uuid='7b0106fc-d1eb-5919-ae8c-b9a7ac1890b2', latitude=-37.065018, longitude=143.731855), EventMini(uuid='ce8bbddc-e0d8-581b-8869-6be28fc20794', latitude=-36.553856, longitude=145.977439), EventMini(uuid='9c5213bd-d3a9-519d-8555-7883d9ad494d', latitude=-37.622365, longitude=145.00465), EventMini(uuid='182cbc9a-b4e3-5c11-be8c-0657962812e3', latitude=-37.552061, longitude=143.898319), EventMini(uuid='c27ea0ab-2d9a-5cce-83fe-a06d39d6e6f4', latitude=-35.730934, longitude=143.908707), EventMini(uuid='24ae7394-3627-5262-a786-4c1093eb782a', latitude=-37.755246, longitude=145.074478), EventMini(uuid='66953d09-fb95-52b3-8fb4-80abd7f9f02f', latitude=-37.991139, longitude=145.215644), EventMini(uuid='4ecd1e0f-f844-5449-8cf5-8b1a36492387', latitude=-36.725618, longitude=144.305636), EventMini(uuid='c59053dd-f224-527e-8f76-0f0842a5b60e', latitude=-37.68168, longitude=144.432973), EventMini(uuid='f4018ae4-649e-50bf-b5fb-9c65a4a9f12f', latitude=-37.872231, longitude=144.902847), EventMini(uuid='8cb9bd40-8941-578d-aa86-7bb09d88f724', latitude=-37.787396, longitude=144.564012), EventMini(uuid='4595417b-73a4-5972-ba8f-1cbb9ba02a7d', latitude=-35.45108, longitude=143.628251), EventMini(uuid='3505100c-ec55-559c-b87d-264b20f17d62', latitude=-36.094049, longitude=145.442706), EventMini(uuid='b6cf40e1-08a0-57f0-9628-f84984b80853', latitude=-38.100383, longitude=145.325835), EventMini(uuid='ee5e936a-d161-5cc3-b4e1-34642eb8a384', latitude=-36.555094, longitude=146.711688), EventMini(uuid='281846c2-5608-5a6c-9f8c-655b856ed440', latitude=-37.805244, longitude=145.29128), EventMini(uuid='07979222-3542-58dd-9512-08fe15fe3647', latitude=-36.053066, longitude=145.211172), EventMini(uuid='beb58fba-e941-59b1-af84-a29c94f28a5c', latitude=-38.17212, longitude=145.12985), EventMini(uuid='c81ce08c-444c-55a3-b05c-bee3c3909122', latitude=-37.86738, longitude=145.248705), EventMini(uuid='20740820-d62b-55eb-bbaf-867fd3700160', latitude=-37.73646, longitude=145.219969), EventMini(uuid='3c4f5dbf-db6b-55a9-aaa7-b07627f2298f', latitude=-37.929679, longitude=144.670875), EventMini(uuid='79a3f4a2-a04b-5248-92f9-86911195c70d', latitude=-35.234051, longitude=149.073486), EventMini(uuid='af5b2aac-6d43-5a47-b69b-da6875dc1e47', latitude=-35.410284, longitude=149.064989), EventMini(uuid='41e015ca-b409-524b-a65b-6a7dc33fa117', latitude=-35.178952, longitude=149.129405), EventMini(uuid='6eefe494-bbf7-50b7-97b3-436ccee09601', latitude=-35.292148, longitude=149.088585), EventMini(uuid='cd010754-366d-53d8-a1a3-5b2de8e9b0df', latitude=-35.326215, longitude=149.047518), EventMini(uuid='1b0475cd-0918-5a0f-9de9-320cb5257cad', latitude=-35.278828, longitude=149.152038), EventMini(uuid='7daee042-ba66-505d-b51b-69abd683b474', latitude=-35.161135, longitude=149.123403), EventMini(uuid='2e03da7b-ccf2-5d2f-b722-f393b9235c2d', latitude=-31.950868, longitude=115.881884), EventMini(uuid='e56ed8c3-f8ba-5b89-9a38-f1067490d4fe', latitude=-32.275296, longitude=115.728757), EventMini(uuid='befc591d-91c5-5401-a81e-672d139f2d59', latitude=-32.020912, longitude=115.92266), EventMini(uuid='11f60deb-0192-5d8b-8068-23f855176898', latitude=-33.342966, longitude=115.633228), EventMini(uuid='db939471-1dbf-52df-85be-32290def8fab', latitude=-31.789954, longitude=115.988052), EventMini(uuid='6712dfa0-04ab-557c-bd4d-65a2fe197d34', latitude=-31.744138, longitude=115.777144), EventMini(uuid='ef6aefe4-e42d-5744-a629-53dd5b4d7921', latitude=-30.718868, longitude=121.456625), EventMini(uuid='5c595fcc-ec50-5a66-9a3b-1aa1d27096ec', latitude=-31.679025, longitude=115.69588), EventMini(uuid='70ec90ea-5057-58d5-a3ee-a32f277936ac', latitude=-34.227785, longitude=116.179615), EventMini(uuid='0a87ece3-a167-508e-8493-c7597c3d265f', latitude=-32.066125, longitude=116.001509), EventMini(uuid='5352306a-8e79-5d49-a537-706de8d9c70c', latitude=-32.006479, longitude=115.75182), EventMini(uuid='cc2aa643-545c-570a-b127-640ce16495c0', latitude=-31.85155, longitude=115.782943), EventMini(uuid='4ed4ad55-9f28-577b-8078-01e13f97884b', latitude=-33.642342, longitude=115.354374), EventMini(uuid='aa83df2a-329a-5977-b57c-6e8f4a5bfa17', latitude=-35.025659, longitude=117.916528), EventMini(uuid='01aa243e-d06f-5ced-8463-a9050542f232', latitude=-32.093955, longitude=115.820636), EventMini(uuid='99020be8-6abb-5419-b8ed-ca7e98aab564', latitude=-32.625918, longitude=115.640914), EventMini(uuid='6f4bcdd7-cf47-56d9-afd6-3b99c540dafb', latitude=-30.638892, longitude=116.004276), EventMini(uuid='8b54413e-3ee7-5054-b260-938351e6b17a', latitude=-15.791571, longitude=128.700113), EventMini(uuid='1501c76c-9520-5d92-82f2-7f76cd4487b6', latitude=-32.106314, longitude=115.999535), EventMini(uuid='dc1f9773-07a0-5e3b-b4d1-551e70d6a420', latitude=-31.887528, longitude=115.99131), EventMini(uuid='369cd8a3-884c-5327-98ce-82f64b47339c', latitude=-31.947167, longitude=115.915089), EventMini(uuid='fe0d3f3a-1012-517f-88c4-1d6e4deeb3df', latitude=-32.028968, longitude=115.881886), EventMini(uuid='60c8511e-2f0f-5a11-9271-d33126d6aae2', latitude=-32.126604, longitude=115.876176), EventMini(uuid='13ae4fa1-f0ac-55cc-8037-dbb5ef855df2', latitude=-32.006932, longitude=115.834885), EventMini(uuid='b450708f-7871-595f-8365-9b8a1b28f7c4', latitude=-20.307149, longitude=118.613332), EventMini(uuid='f8c2d209-0b5b-53ff-bce5-172278e1691c', latitude=-31.817129, longitude=115.73696), EventMini(uuid='465684f4-f265-5f5c-aea2-5945acfb37db', latitude=-33.944257, longitude=115.074331), EventMini(uuid='4e83dff7-4228-5772-8cc9-3d5d20524dde', latitude=-31.911504, longitude=115.86113), EventMini(uuid='077eb84e-ce48-5fcf-966d-02a4d5d715ae', latitude=-31.751242, longitude=115.793187), EventMini(uuid='2c4d2bac-f376-51b1-81d0-0144dab2af7e', latitude=-31.95306, longitude=115.887561), EventMini(uuid='b204db91-9520-5ac9-a928-5281589ed33d', latitude=-31.879999, longitude=116.208462), EventMini(uuid='fb592de8-ddac-55bf-963c-0063f517f199', latitude=-32.162855, longitude=115.977875), EventMini(uuid='d7ad0f33-d594-5763-8c5a-1db044967dd2', latitude=-32.33239, longitude=115.812074), EventMini(uuid='034bc8da-8899-5332-a322-c8179ce0b615', latitude=-31.945635, longitude=115.784168), EventMini(uuid='95dda4c7-fa00-5d75-99c3-04052466af58', latitude=-28.763698, longitude=114.613067), EventMini(uuid='7991b230-fab8-5d2f-92e7-1d63bcf06cda', latitude=-33.357664, longitude=116.156872), EventMini(uuid='2a7fc166-dc1e-5ef2-93dd-acfd21e9410d', latitude=-31.92623, longitude=116.026041), EventMini(uuid='3db21e6d-a5f0-53d0-8f32-78f5900fca75', latitude=-31.96618, longitude=116.035959), EventMini(uuid='da7fb218-7e0b-58ac-be27-c767223cbc7e', latitude=-32.003668, longitude=115.891775), EventMini(uuid='37b9fa58-9892-5412-bdae-ac3157b87475', latitude=-31.922558, longitude=115.941181), EventMini(uuid='e7ebe288-a305-587d-9449-15071abb7ebb', latitude=-20.666182, longitude=116.70334), EventMini(uuid='f7b01934-6d1d-5244-a08d-c22309d98181', latitude=-20.729535, longitude=116.806181), EventMini(uuid='3ce6aefa-f5b1-5286-8e71-f3067bbfee2f', latitude=-32.053807, longitude=115.970386), EventMini(uuid='ff732ebc-1e60-56e0-a070-33469806326c', latitude=-32.07687, longitude=115.752554), EventMini(uuid='ea7adb8e-d2bf-5c1c-b51c-dc2963675298', latitude=-32.33521, longitude=116.058618), EventMini(uuid='6bbb9542-4b47-5766-bba0-bba3aad52120', latitude=-31.97481, longitude=115.779507), EventMini(uuid='d9a37607-7f39-5b43-a25a-977bfc1c9900', latitude=-42.804471, longitude=147.332352), EventMini(uuid='5ec2ed3f-4492-50b9-80b8-da7d301fdf24', latitude=-41.425512, longitude=147.14088), EventMini(uuid='48bae55d-64ab-5596-baee-0714178e179d', latitude=-40.98771, longitude=145.738245), EventMini(uuid='cc3b4d68-d152-5a08-a5e4-48ba65e69eca', latitude=-41.162847, longitude=146.356321), EventMini(uuid='9c70c413-f11b-5259-afa9-2c3a3c474f92', latitude=-41.109186, longitude=146.821208), EventMini(uuid='4667fa60-d5a1-54b2-862a-fd60d70dd6a5', latitude=-41.403535, longitude=147.095454), EventMini(uuid='7179fd87-c506-51b4-92b6-c6cd2038cd6a', latitude=-41.347581, longitude=146.424482), EventMini(uuid='34237d86-5035-5ad4-8a31-c037d4b65105', latitude=-42.863822, longitude=147.31775), EventMini(uuid='82ed5481-d4ec-5cf9-ad90-a40f646d8856', latitude=-42.878181, longitude=147.37175), EventMini(uuid='874ae79f-9857-5c2d-8d75-35c3e5610e29', latitude=-41.049194, longitude=145.905), EventMini(uuid='b78016f4-4ef9-5d1d-9e60-d21e22da5c5a', latitude=-41.151526, longitude=146.541641), EventMini(uuid='0c9f84d4-9029-52cf-b752-a3e31dac2aa6', latitude=-43.163256, longitude=146.925685), EventMini(uuid='70de1169-d18b-5f51-9395-63571c3cb908', latitude=-42.8227, longitude=147.269908), EventMini(uuid='c15d9638-0bc3-5780-ac29-171832f16cd4', latitude=-40.121659, longitude=148.013824), EventMini(uuid='650e13e7-5e0c-5488-9ef1-71e81f282f66', latitude=-42.972838, longitude=147.309649), EventMini(uuid='cd0caf13-35b7-524f-bfac-26801aa882d7', latitude=-42.559297, longitude=147.876873), EventMini(uuid='b72ab280-d04c-576a-b754-b42ba68d5666', latitude=-41.47567, longitude=147.138035), EventMini(uuid='ab57efc6-bf99-537f-82c9-21b5aebd4126', latitude=-34.917551, longitude=138.587444), EventMini(uuid='2d353650-77ee-522b-a390-06a23d57a5f3', latitude=-35.069655, longitude=138.867869), EventMini(uuid='9c801058-46a4-5203-bbea-af066108d403', latitude=-37.84289, longitude=140.777854), EventMini(uuid='88a0f226-3a18-5533-876d-be5d61a205ca', latitude=-35.565657, longitude=138.611096), EventMini(uuid='9488e81d-5284-5a8b-aa3e-0184bc1a1df5', latitude=-35.121567, longitude=139.285558), EventMini(uuid='39f5ac8a-1a08-57f3-bb4f-3ca7932f2015', latitude=-32.4874, longitude=137.764721), EventMini(uuid='eb0aecf6-9bbc-5fa5-82b6-d9ada71e2942', latitude=-34.590841, longitude=138.750027), EventMini(uuid='e66f38e7-301f-5f87-9342-f5cfa09037eb', latitude=-34.81134, longitude=138.616733), EventMini(uuid='a96575f4-d8b6-5f8d-b614-178c698f6db4', latitude=-33.866335, longitude=138.625011), EventMini(uuid='61ed5eff-bd10-589c-b27f-8668c44fb4a0', latitude=-34.880815, longitude=138.649251), EventMini(uuid='b6ce96a0-cc5e-542e-9565-f784a93ba64e', latitude=-34.939218, longitude=138.499643), EventMini(uuid='eda3f1df-fd25-5a54-b056-094aa9e36458', latitude=-35.258681, longitude=138.89303), EventMini(uuid='f6226d3f-fe0f-56e5-ac84-04b73c9b1924', latitude=-34.17425, longitude=140.751235), EventMini(uuid='2e523797-2e5e-5a4d-a81f-3c3933a5d079', latitude=-35.135628, longitude=138.46916), EventMini(uuid='88cd3de0-1f4d-5ba8-85e1-60c8b2fb06be', latitude=-34.964185, longitude=138.698602), EventMini(uuid='9f7e7b4b-55e6-5ca9-9bee-f28a8a0b2720', latitude=-35.287768, longitude=138.444983), EventMini(uuid='4f6474d8-2079-53de-a98b-92e07979141b', latitude=-34.466685, longitude=139.006952), EventMini(uuid='a5cecaf9-5f9f-5995-a6de-7e3b5c4cc9a4', latitude=-34.720803, longitude=135.860614), EventMini(uuid='be8e51ad-22eb-51c3-b658-4ac854cbf606', latitude=-34.754627, longitude=138.677757), EventMini(uuid='44aa2979-8eb3-5420-b3f8-5089bcd42c85', latitude=-35.655848, longitude=137.640473), EventMini(uuid='c9db2e3e-822c-583f-a6bc-fcfaff42d8f2', latitude=-35.088747, longitude=138.558626), EventMini(uuid='10e592d1-9e72-558d-b705-bec7c1bac6ed', latitude=-33.598731, longitude=137.929613), EventMini(uuid='c7bedbaf-532b-577a-a31a-3baf9439b8da', latitude=-34.825832, longitude=138.485654), EventMini(uuid='23abd2da-c325-56fc-9627-5031b05d304e', latitude=-35.197847, longitude=138.470913), EventMini(uuid='cacde39d-41c2-5019-aac3-781817fac9fb', latitude=-35.080717, longitude=137.747177), EventMini(uuid='fdbf87f1-f175-5498-9a29-36a6fcec9498', latitude=-35.499385, longitude=138.789448), EventMini(uuid='fc645f2c-00c4-5e31-91d0-40a263733114', latitude=-34.806102, longitude=138.69439), EventMini(uuid='7e55b2c7-872c-5e2c-bb29-415bae3db47e', latitude=-35.68627, longitude=139.338438), EventMini(uuid='89b18a0d-5907-5bd6-a32f-ec2abf37123c', latitude=-34.928906, longitude=138.617578), EventMini(uuid='365a2315-4ed0-55c5-bcfc-1935b73544ba', latitude=-35.035682, longitude=138.516667), EventMini(uuid='c5f05b85-5d6f-5195-8536-149332d3e071', latitude=-34.676285, longitude=138.66393), EventMini(uuid='b5ba4694-15c7-5403-8c14-880e0fba3e2b', latitude=-34.916841, longitude=138.903161), EventMini(uuid='f3c0c040-a5cb-5179-b432-d12664c89c21', latitude=-36.949411, longitude=140.741843), EventMini(uuid='d979c222-7794-5477-b00a-83c9b15620ee', latitude=-33.70206, longitude=136.50305), EventMini(uuid='5404dcc9-d68a-55d7-ab97-cb07966e8b86', latitude=-35.217671, longitude=138.547611), EventMini(uuid='3e44569e-c319-506b-a143-21ce6f13382b', latitude=-34.874224, longitude=138.690985), EventMini(uuid='889f43d1-7de1-5e8a-84bb-0346dc0cdd18', latitude=-34.683829, longitude=138.877987), EventMini(uuid='6b359dd9-cb90-5139-b554-8811947a9fe1', latitude=-35.209252, longitude=138.709337), EventMini(uuid='830c6797-a4b8-55c0-b3b2-0a5b56f6d58b', latitude=-34.963603, longitude=138.516116), EventMini(uuid='3371bcb4-bd10-58c4-8062-d5692caa1adf', latitude=-34.825885, longitude=138.728048), EventMini(uuid='fa9612d3-563c-582f-93ab-11c4c31ebc0d', latitude=-33.95397, longitude=137.667378), EventMini(uuid='1a83966a-54ba-5d95-9cbc-ffa37042aa04', latitude=-34.999482, longitude=138.548072), EventMini(uuid='c789d8a8-846d-53a1-8b80-d5157f45d8a5', latitude=-33.228546, longitude=138.561957), EventMini(uuid='3865665e-14a4-57a5-9ce5-8f454bb6acfc', latitude=-35.394655, longitude=138.452385), EventMini(uuid='52001358-1fef-529a-86e5-2dec3d289d34', latitude=-12.466925, longitude=130.840725), EventMini(uuid='0ebd5f4f-cf83-5150-813f-b5982cc37225', latitude=-12.475829, longitude=130.982607), EventMini(uuid='a2dd9a63-0ae5-593f-96a4-235a39b541b0', latitude=-12.376205, longitude=130.857655)], state='e06286f6-1909-5da9-b2f2-3273aeea484c', refreshed=datetime.datetime(2022, 4, 26, 11, 12, 35, 690016))"
      ]
     },
     "execution_count": 3,
     "metadata": {},
     "output_type": "execute_result"
    }
   ],
   "source": [
    "Master.refresh(storage=storage)"
   ]
  },
  {
   "cell_type": "code",
   "execution_count": 6,
   "id": "c820d90a",
   "metadata": {},
   "outputs": [],
   "source": [
    "base = Scraper.http_get(url=\"https://images.parkrun.com/events.json\").json()\n",
    "\n",
    "countries = base[\"countries\"]\n",
    "\n",
    "bad = []\n",
    "\n",
    "for data in base[\"events\"][\"features\"]:\n",
    "\n",
    "    try:\n",
    "        country = Event.extract_country(event=data)\n",
    "        uuid = Event.extract_uuid(event=data, country=country)\n",
    "    except UnsupportedCountryError:\n",
    "        continue\n",
    "        \n",
    "    if Event.exists(storage=storage, uuid=uuid):\n",
    "        print(\"➡️\", uuid)\n",
    "        continue\n",
    "    \n",
    "    try:\n",
    "        event = Event.scrape(storage=storage, event=data, countries=countries)\n",
    "        print(\"✅\", uuid)\n",
    "    except Exception as e:\n",
    "        print(\"⛔️\", uuid)\n",
    "        bad.append((uuid, data))\n",
    "        continue\n",
    "        \n",
    "print(bad)"
   ]
  },
  {
   "cell_type": "code",
   "execution_count": 4,
   "id": "a5cbbcb6",
   "metadata": {},
   "outputs": [],
   "source": [
    "from uuid import uuid5, NAMESPACE_URL as uuid_namespace"
   ]
  },
  {
   "cell_type": "code",
   "execution_count": 6,
   "id": "4960145f",
   "metadata": {},
   "outputs": [
    {
     "data": {
      "text/plain": [
       "UUID('6ba7b811-9dad-11d1-80b4-00c04fd430c8')"
      ]
     },
     "execution_count": 6,
     "metadata": {},
     "output_type": "execute_result"
    }
   ],
   "source": [
    "uuid_namespace"
   ]
  },
  {
   "cell_type": "code",
   "execution_count": 4,
   "id": "3bf29379",
   "metadata": {},
   "outputs": [
    {
     "data": {
      "text/plain": [
       "'run/walk along esplanade concrete foot path'"
      ]
     },
     "execution_count": 4,
     "metadata": {},
     "output_type": "execute_result"
    }
   ],
   "source": [
    "\"Run/Walk along Esplanade concrete foot path\".lower()"
   ]
  },
  {
   "cell_type": "code",
   "execution_count": 4,
   "id": "8c7c902b",
   "metadata": {},
   "outputs": [
    {
     "ename": "TypeError",
     "evalue": "models.map.Map() argument after ** must be a mapping, not str",
     "output_type": "error",
     "traceback": [
      "\u001b[0;31m---------------------------------------------------------------------------\u001b[0m",
      "\u001b[0;31mTypeError\u001b[0m                                 Traceback (most recent call last)",
      "Input \u001b[0;32mIn [4]\u001b[0m, in \u001b[0;36m<cell line: 1>\u001b[0;34m()\u001b[0m\n\u001b[0;32m----> 1\u001b[0m \u001b[43mMap\u001b[49m\u001b[38;5;241;43m.\u001b[39;49m\u001b[43mget\u001b[49m\u001b[43m(\u001b[49m\u001b[43mstorage\u001b[49m\u001b[38;5;241;43m=\u001b[39;49m\u001b[43mstorage\u001b[49m\u001b[43m,\u001b[49m\u001b[43m \u001b[49m\u001b[43muuid\u001b[49m\u001b[38;5;241;43m=\u001b[39;49m\u001b[38;5;124;43m\"\u001b[39;49m\u001b[38;5;124;43m1d113313-bc51-54d8-a01d-9d63d7f3b217\u001b[39;49m\u001b[38;5;124;43m\"\u001b[39;49m\u001b[43m)\u001b[49m\n",
      "File \u001b[0;32m~/Projects/ParkRun Server/models/map.py:48\u001b[0m, in \u001b[0;36mMap.get\u001b[0;34m(cls, storage, uuid)\u001b[0m\n\u001b[1;32m     43\u001b[0m \u001b[38;5;129m@classmethod\u001b[39m\n\u001b[1;32m     44\u001b[0m \u001b[38;5;28;01mdef\u001b[39;00m \u001b[38;5;21mget\u001b[39m(\u001b[38;5;28mcls\u001b[39m, storage: Storage, uuid: \u001b[38;5;28mstr\u001b[39m) \u001b[38;5;241m-\u001b[39m\u001b[38;5;241m>\u001b[39m \u001b[38;5;124m\"\u001b[39m\u001b[38;5;124mMap\u001b[39m\u001b[38;5;124m\"\u001b[39m:\n\u001b[1;32m     46\u001b[0m     file, directory \u001b[38;5;241m=\u001b[39m \u001b[38;5;28mcls\u001b[39m\u001b[38;5;241m.\u001b[39mpath(uuid\u001b[38;5;241m=\u001b[39muuid)\n\u001b[0;32m---> 48\u001b[0m     \u001b[38;5;28;01mreturn\u001b[39;00m Map(\u001b[38;5;241m*\u001b[39m\u001b[38;5;241m*\u001b[39mstorage\u001b[38;5;241m.\u001b[39mget(file\u001b[38;5;241m=\u001b[39mfile, directory\u001b[38;5;241m=\u001b[39mdirectory))\n",
      "\u001b[0;31mTypeError\u001b[0m: models.map.Map() argument after ** must be a mapping, not str"
     ]
    }
   ],
   "source": [
    "Map.get(storage=storage, uuid=\"1d113313-bc51-54d8-a01d-9d63d7f3b217\")"
   ]
  },
  {
   "cell_type": "code",
   "execution_count": 6,
   "id": "b1d70197",
   "metadata": {},
   "outputs": [],
   "source": [
    "file, directory = Map.path(uuid=\"1d113313-bc51-54d8-a01d-9d63d7f3b217\")"
   ]
  },
  {
   "cell_type": "code",
   "execution_count": 8,
   "id": "ff6ab285",
   "metadata": {},
   "outputs": [
    {
     "data": {
      "text/plain": [
       "'{\"mid\": \"1uvdDBnFWz-hL7bq0xtTRvAK5eCQ\", \"start\": [-41.210714, 174.899521], \"finish\": [-41.211647, 174.899194], \"path\": [[-41.210731, 174.899518], [-41.211441, 174.899132], [-41.212325, 174.898783], [-41.212736, 174.898794], [-41.213027, 174.898748], [-41.213337, 174.898775], [-41.214179, 174.898612], [-41.215817, 174.898805], [-41.216374, 174.898912], [-41.217528, 174.899277], [-41.218367, 174.899921], [-41.219053, 174.900478], [-41.219933, 174.901004], [-41.220458, 174.901026], [-41.221192, 174.900929], [-41.221708, 174.900908], [-41.222628, 174.901101], [-41.223282, 174.901219], [-41.223855, 174.901465], [-41.224154, 174.901401], [-41.224638, 174.901305], [-41.225227, 174.90139], [-41.225687, 174.901691], [-41.22578, 174.901895], [-41.226413, 174.902276], [-41.227155, 174.902571], [-41.227514, 174.902662], [-41.227805, 174.902683], [-41.228031, 174.902651], [-41.228217, 174.90249], [-41.228406, 174.902436], [-41.229314, 174.901659], [-41.229709, 174.901326], [-41.229883, 174.901283], [-41.230093, 174.901305], [-41.230278, 174.901337], [-41.230686, 174.901535], [-41.230968, 174.901626], [-41.232263, 174.901406], [-41.232287, 174.90161], [-41.23196, 174.902013], [-41.231355, 174.901868], [-41.231222, 174.901755], [-41.231077, 174.901621]]}'"
      ]
     },
     "execution_count": 8,
     "metadata": {},
     "output_type": "execute_result"
    }
   ],
   "source": [
    "storage.get(file=file, directory=directory)"
   ]
  },
  {
   "cell_type": "code",
   "execution_count": 7,
   "id": "d2fb072c",
   "metadata": {},
   "outputs": [
    {
     "ename": "ValueError",
     "evalue": "1 is not a valid Country",
     "output_type": "error",
     "traceback": [
      "\u001b[0;31m---------------------------------------------------------------------------\u001b[0m",
      "\u001b[0;31mValueError\u001b[0m                                Traceback (most recent call last)",
      "Input \u001b[0;32mIn [7]\u001b[0m, in \u001b[0;36m<cell line: 1>\u001b[0;34m()\u001b[0m\n\u001b[0;32m----> 1\u001b[0m \u001b[43mCountry\u001b[49m\u001b[43m(\u001b[49m\u001b[38;5;241;43m1\u001b[39;49m\u001b[43m)\u001b[49m\n",
      "File \u001b[0;32m/opt/homebrew/Cellar/python@3.10/3.10.2/Frameworks/Python.framework/Versions/3.10/lib/python3.10/enum.py:385\u001b[0m, in \u001b[0;36mEnumMeta.__call__\u001b[0;34m(cls, value, names, module, qualname, type, start)\u001b[0m\n\u001b[1;32m    360\u001b[0m \u001b[38;5;124;03m\"\"\"\u001b[39;00m\n\u001b[1;32m    361\u001b[0m \u001b[38;5;124;03mEither returns an existing member, or creates a new enum class.\u001b[39;00m\n\u001b[1;32m    362\u001b[0m \n\u001b[0;32m   (...)\u001b[0m\n\u001b[1;32m    382\u001b[0m \u001b[38;5;124;03m`type`, if set, will be mixed in as the first base class.\u001b[39;00m\n\u001b[1;32m    383\u001b[0m \u001b[38;5;124;03m\"\"\"\u001b[39;00m\n\u001b[1;32m    384\u001b[0m \u001b[38;5;28;01mif\u001b[39;00m names \u001b[38;5;129;01mis\u001b[39;00m \u001b[38;5;28;01mNone\u001b[39;00m:  \u001b[38;5;66;03m# simple value lookup\u001b[39;00m\n\u001b[0;32m--> 385\u001b[0m     \u001b[38;5;28;01mreturn\u001b[39;00m \u001b[38;5;28;43mcls\u001b[39;49m\u001b[38;5;241;43m.\u001b[39;49m\u001b[38;5;21;43m__new__\u001b[39;49m\u001b[43m(\u001b[49m\u001b[38;5;28;43mcls\u001b[39;49m\u001b[43m,\u001b[49m\u001b[43m \u001b[49m\u001b[43mvalue\u001b[49m\u001b[43m)\u001b[49m\n\u001b[1;32m    386\u001b[0m \u001b[38;5;66;03m# otherwise, functional API: we're creating a new Enum type\u001b[39;00m\n\u001b[1;32m    387\u001b[0m \u001b[38;5;28;01mreturn\u001b[39;00m \u001b[38;5;28mcls\u001b[39m\u001b[38;5;241m.\u001b[39m_create_(\n\u001b[1;32m    388\u001b[0m         value,\n\u001b[1;32m    389\u001b[0m         names,\n\u001b[0;32m   (...)\u001b[0m\n\u001b[1;32m    393\u001b[0m         start\u001b[38;5;241m=\u001b[39mstart,\n\u001b[1;32m    394\u001b[0m         )\n",
      "File \u001b[0;32m/opt/homebrew/Cellar/python@3.10/3.10.2/Frameworks/Python.framework/Versions/3.10/lib/python3.10/enum.py:710\u001b[0m, in \u001b[0;36mEnum.__new__\u001b[0;34m(cls, value)\u001b[0m\n\u001b[1;32m    708\u001b[0m ve_exc \u001b[38;5;241m=\u001b[39m \u001b[38;5;167;01mValueError\u001b[39;00m(\u001b[38;5;124m\"\u001b[39m\u001b[38;5;132;01m%r\u001b[39;00m\u001b[38;5;124m is not a valid \u001b[39m\u001b[38;5;132;01m%s\u001b[39;00m\u001b[38;5;124m\"\u001b[39m \u001b[38;5;241m%\u001b[39m (value, \u001b[38;5;28mcls\u001b[39m\u001b[38;5;241m.\u001b[39m\u001b[38;5;18m__qualname__\u001b[39m))\n\u001b[1;32m    709\u001b[0m \u001b[38;5;28;01mif\u001b[39;00m result \u001b[38;5;129;01mis\u001b[39;00m \u001b[38;5;28;01mNone\u001b[39;00m \u001b[38;5;129;01mand\u001b[39;00m exc \u001b[38;5;129;01mis\u001b[39;00m \u001b[38;5;28;01mNone\u001b[39;00m:\n\u001b[0;32m--> 710\u001b[0m     \u001b[38;5;28;01mraise\u001b[39;00m ve_exc\n\u001b[1;32m    711\u001b[0m \u001b[38;5;28;01melif\u001b[39;00m exc \u001b[38;5;129;01mis\u001b[39;00m \u001b[38;5;28;01mNone\u001b[39;00m:\n\u001b[1;32m    712\u001b[0m     exc \u001b[38;5;241m=\u001b[39m \u001b[38;5;167;01mTypeError\u001b[39;00m(\n\u001b[1;32m    713\u001b[0m             \u001b[38;5;124m'\u001b[39m\u001b[38;5;124merror in \u001b[39m\u001b[38;5;132;01m%s\u001b[39;00m\u001b[38;5;124m._missing_: returned \u001b[39m\u001b[38;5;132;01m%r\u001b[39;00m\u001b[38;5;124m instead of None or a valid member\u001b[39m\u001b[38;5;124m'\u001b[39m\n\u001b[1;32m    714\u001b[0m             \u001b[38;5;241m%\u001b[39m (\u001b[38;5;28mcls\u001b[39m\u001b[38;5;241m.\u001b[39m\u001b[38;5;18m__name__\u001b[39m, result)\n\u001b[1;32m    715\u001b[0m             )\n",
      "\u001b[0;31mValueError\u001b[0m: 1 is not a valid Country"
     ]
    }
   ],
   "source": [
    "Country(1)"
   ]
  },
  {
   "cell_type": "code",
   "execution_count": 2,
   "id": "2e58d822",
   "metadata": {},
   "outputs": [],
   "source": [
    "events=Event.scrape(storage=storage)"
   ]
  },
  {
   "cell_type": "code",
   "execution_count": 3,
   "id": "aa7decbc",
   "metadata": {},
   "outputs": [
    {
     "data": {
      "text/plain": [
       "'{\"mid\": \"1LIpGWCC1V1B8PzT0JF7KIvG9UtHlSJCX\", \"start\": [-26.317557, 27.848614], \"finish\": [-26.317557, 27.848614], \"path\": [[-26.317882, 27.848841], [-26.318163, 27.848643], [-26.31827, 27.84855], [-26.318332, 27.848466], [-26.318391, 27.848361], [-26.318419, 27.84825], [-26.318434, 27.848162], [-26.318434, 27.848067], [-26.318413, 27.847981], [-26.318385, 27.847888], [-26.318338, 27.847816], [-26.318285, 27.847752], [-26.317887, 27.848061], [-26.317879, 27.848149], [-26.317812, 27.84819], [-26.31777, 27.848123], [-26.317797, 27.848064], [-26.317503, 27.847594], [-26.317384, 27.847746], [-26.317281, 27.847982], [-26.317283, 27.848241], [-26.317346, 27.848477], [-26.317334, 27.848692], [-26.317603, 27.849197], [-26.318298, 27.85042], [-26.318944, 27.849937], [-26.31897, 27.850006], [-26.318963, 27.850268], [-26.319024, 27.850431], [-26.319301, 27.850834], [-26.319466, 27.851164], [-26.319657, 27.851574], [-26.319975, 27.852161], [-26.320246, 27.852649], [-26.320509, 27.853118], [-26.320519, 27.853186], [-26.320685, 27.853439], [-26.320888, 27.853632], [-26.321176, 27.853932], [-26.321487, 27.854424], [-26.322288, 27.855292], [-26.322713, 27.85527], [-26.322964, 27.85528], [-26.323176, 27.855278], [-26.323204, 27.854837], [-26.323282, 27.85445], [-26.323437, 27.853725], [-26.323458, 27.853641], [-26.323374, 27.853591], [-26.323363, 27.853455], [-26.323357, 27.853317], [-26.323055, 27.853075], [-26.322839, 27.852802], [-26.322384, 27.852414], [-26.321956, 27.852328], [-26.321036, 27.852077], [-26.320856, 27.851946], [-26.320098, 27.851068], [-26.319912, 27.850778], [-26.319791, 27.85059], [-26.319726, 27.850434], [-26.319634, 27.850247], [-26.319514, 27.849985], [-26.319398, 27.849784], [-26.319262, 27.849563], [-26.319065, 27.849412], [-26.318683, 27.849187], [-26.318339, 27.849013], [-26.318079, 27.848948], [-26.317814, 27.848799], [-26.317497, 27.848597]]}'"
      ]
     },
     "execution_count": 3,
     "metadata": {},
     "output_type": "execute_result"
    }
   ],
   "source": [
    "json.dumps(map, cls=JSONEncoder)"
   ]
  },
  {
   "cell_type": "code",
   "execution_count": 64,
   "id": "41fa3090",
   "metadata": {},
   "outputs": [],
   "source": [
    "class Storage(Auth):\n",
    "\n",
    "    def __init__(self, bucket: str):\n",
    "\n",
    "        self.client = gcs.Client(\n",
    "            credentials=self.credentials()\n",
    "        )\n",
    "        \n",
    "        self.bucket = self.client.get_bucket(bucket)\n",
    "\n",
    "    def get(self, file: str, directory: str = \"/\", codable: Codable = Codable.text) -> any:\n",
    "\n",
    "        path = os.path.join(directory, file)\n",
    "\n",
    "        with self.bucket.blob(path).open(mode=\"r\") as blob:\n",
    "            return codable.value.decode(blob=blob)\n",
    "        \n",
    "    def write(self, file: str, directory: str = \"/\", codable: Codable = Codable.text):\n",
    "        \n",
    "        path = os.path.join(directory, file)\n",
    "        \n",
    "        return self.bucket.blob(path).open(mode=\"w\", content_type=codable.value.encode)\n",
    "\n",
    "    def exists(self, file: str, directory: str = \"/\") -> bool:\n",
    "        \n",
    "        path = os.path.join(directory, file)\n",
    "        \n",
    "        return self.bucket.blob(path).exists()"
   ]
  },
  {
   "cell_type": "code",
   "execution_count": 68,
   "id": "01734121",
   "metadata": {},
   "outputs": [],
   "source": [
    "from google.cloud import storage as gcs"
   ]
  },
  {
   "cell_type": "code",
   "execution_count": 71,
   "id": "5c202158",
   "metadata": {},
   "outputs": [
    {
     "ename": "AttributeError",
     "evalue": "module 'google.cloud.storage' has no attribute 'exceptions'",
     "output_type": "error",
     "traceback": [
      "\u001b[0;31m---------------------------------------------------------------------------\u001b[0m",
      "\u001b[0;31mAttributeError\u001b[0m                            Traceback (most recent call last)",
      "Input \u001b[0;32mIn [71]\u001b[0m, in \u001b[0;36m<cell line: 1>\u001b[0;34m()\u001b[0m\n\u001b[0;32m----> 1\u001b[0m \u001b[43mgcs\u001b[49m\u001b[38;5;241;43m.\u001b[39;49m\u001b[43mexceptions\u001b[49m\u001b[38;5;241m.\u001b[39mNotFound\n",
      "\u001b[0;31mAttributeError\u001b[0m: module 'google.cloud.storage' has no attribute 'exceptions'"
     ]
    }
   ],
   "source": [
    "gcs.exceptions.NotFound"
   ]
  },
  {
   "cell_type": "code",
   "execution_count": 59,
   "id": "39f1ca8f",
   "metadata": {},
   "outputs": [],
   "source": []
  },
  {
   "cell_type": "code",
   "execution_count": 67,
   "id": "678f6686",
   "metadata": {},
   "outputs": [
    {
     "ename": "NotFound",
     "evalue": "404 GET https://storage.googleapis.com/download/storage/v1/b/parkrun-au/o/events%2Fneddw.json?alt=media: No such object: parkrun-au/events/neddw.json: ('Request failed with status code', 404, 'Expected one of', <HTTPStatus.OK: 200>, <HTTPStatus.PARTIAL_CONTENT: 206>)",
     "output_type": "error",
     "traceback": [
      "\u001b[0;31m---------------------------------------------------------------------------\u001b[0m",
      "\u001b[0;31mInvalidResponse\u001b[0m                           Traceback (most recent call last)",
      "File \u001b[0;32m/opt/homebrew/lib/python3.10/site-packages/google/cloud/storage/client.py:1142\u001b[0m, in \u001b[0;36mClient.download_blob_to_file\u001b[0;34m(self, blob_or_uri, file_obj, start, end, raw_download, if_etag_match, if_etag_not_match, if_generation_match, if_generation_not_match, if_metageneration_match, if_metageneration_not_match, timeout, checksum, retry)\u001b[0m\n\u001b[1;32m   1141\u001b[0m \u001b[38;5;28;01mtry\u001b[39;00m:\n\u001b[0;32m-> 1142\u001b[0m     \u001b[43mblob_or_uri\u001b[49m\u001b[38;5;241;43m.\u001b[39;49m\u001b[43m_do_download\u001b[49m\u001b[43m(\u001b[49m\n\u001b[1;32m   1143\u001b[0m \u001b[43m        \u001b[49m\u001b[43mtransport\u001b[49m\u001b[43m,\u001b[49m\n\u001b[1;32m   1144\u001b[0m \u001b[43m        \u001b[49m\u001b[43mfile_obj\u001b[49m\u001b[43m,\u001b[49m\n\u001b[1;32m   1145\u001b[0m \u001b[43m        \u001b[49m\u001b[43mdownload_url\u001b[49m\u001b[43m,\u001b[49m\n\u001b[1;32m   1146\u001b[0m \u001b[43m        \u001b[49m\u001b[43mheaders\u001b[49m\u001b[43m,\u001b[49m\n\u001b[1;32m   1147\u001b[0m \u001b[43m        \u001b[49m\u001b[43mstart\u001b[49m\u001b[43m,\u001b[49m\n\u001b[1;32m   1148\u001b[0m \u001b[43m        \u001b[49m\u001b[43mend\u001b[49m\u001b[43m,\u001b[49m\n\u001b[1;32m   1149\u001b[0m \u001b[43m        \u001b[49m\u001b[43mraw_download\u001b[49m\u001b[43m,\u001b[49m\n\u001b[1;32m   1150\u001b[0m \u001b[43m        \u001b[49m\u001b[43mtimeout\u001b[49m\u001b[38;5;241;43m=\u001b[39;49m\u001b[43mtimeout\u001b[49m\u001b[43m,\u001b[49m\n\u001b[1;32m   1151\u001b[0m \u001b[43m        \u001b[49m\u001b[43mchecksum\u001b[49m\u001b[38;5;241;43m=\u001b[39;49m\u001b[43mchecksum\u001b[49m\u001b[43m,\u001b[49m\n\u001b[1;32m   1152\u001b[0m \u001b[43m        \u001b[49m\u001b[43mretry\u001b[49m\u001b[38;5;241;43m=\u001b[39;49m\u001b[43mretry\u001b[49m\u001b[43m,\u001b[49m\n\u001b[1;32m   1153\u001b[0m \u001b[43m    \u001b[49m\u001b[43m)\u001b[49m\n\u001b[1;32m   1154\u001b[0m \u001b[38;5;28;01mexcept\u001b[39;00m resumable_media\u001b[38;5;241m.\u001b[39mInvalidResponse \u001b[38;5;28;01mas\u001b[39;00m exc:\n",
      "File \u001b[0;32m/opt/homebrew/lib/python3.10/site-packages/google/cloud/storage/blob.py:993\u001b[0m, in \u001b[0;36mBlob._do_download\u001b[0;34m(self, transport, file_obj, download_url, headers, start, end, raw_download, timeout, checksum, retry)\u001b[0m\n\u001b[1;32m    992\u001b[0m download\u001b[38;5;241m.\u001b[39m_retry_strategy \u001b[38;5;241m=\u001b[39m retry_strategy\n\u001b[0;32m--> 993\u001b[0m response \u001b[38;5;241m=\u001b[39m \u001b[43mdownload\u001b[49m\u001b[38;5;241;43m.\u001b[39;49m\u001b[43mconsume\u001b[49m\u001b[43m(\u001b[49m\u001b[43mtransport\u001b[49m\u001b[43m,\u001b[49m\u001b[43m \u001b[49m\u001b[43mtimeout\u001b[49m\u001b[38;5;241;43m=\u001b[39;49m\u001b[43mtimeout\u001b[49m\u001b[43m)\u001b[49m\n\u001b[1;32m    994\u001b[0m \u001b[38;5;28mself\u001b[39m\u001b[38;5;241m.\u001b[39m_extract_headers_from_download(response)\n",
      "File \u001b[0;32m/opt/homebrew/lib/python3.10/site-packages/google/resumable_media/requests/download.py:214\u001b[0m, in \u001b[0;36mDownload.consume\u001b[0;34m(self, transport, timeout)\u001b[0m\n\u001b[1;32m    212\u001b[0m     \u001b[38;5;28;01mreturn\u001b[39;00m result\n\u001b[0;32m--> 214\u001b[0m \u001b[38;5;28;01mreturn\u001b[39;00m \u001b[43m_request_helpers\u001b[49m\u001b[38;5;241;43m.\u001b[39;49m\u001b[43mwait_and_retry\u001b[49m\u001b[43m(\u001b[49m\n\u001b[1;32m    215\u001b[0m \u001b[43m    \u001b[49m\u001b[43mretriable_request\u001b[49m\u001b[43m,\u001b[49m\u001b[43m \u001b[49m\u001b[38;5;28;43mself\u001b[39;49m\u001b[38;5;241;43m.\u001b[39;49m\u001b[43m_get_status_code\u001b[49m\u001b[43m,\u001b[49m\u001b[43m \u001b[49m\u001b[38;5;28;43mself\u001b[39;49m\u001b[38;5;241;43m.\u001b[39;49m\u001b[43m_retry_strategy\u001b[49m\n\u001b[1;32m    216\u001b[0m \u001b[43m\u001b[49m\u001b[43m)\u001b[49m\n",
      "File \u001b[0;32m/opt/homebrew/lib/python3.10/site-packages/google/resumable_media/requests/_request_helpers.py:147\u001b[0m, in \u001b[0;36mwait_and_retry\u001b[0;34m(func, get_status_code, retry_strategy)\u001b[0m\n\u001b[1;32m    146\u001b[0m \u001b[38;5;28;01mtry\u001b[39;00m:\n\u001b[0;32m--> 147\u001b[0m     response \u001b[38;5;241m=\u001b[39m \u001b[43mfunc\u001b[49m\u001b[43m(\u001b[49m\u001b[43m)\u001b[49m\n\u001b[1;32m    148\u001b[0m \u001b[38;5;28;01mexcept\u001b[39;00m _CONNECTION_ERROR_CLASSES \u001b[38;5;28;01mas\u001b[39;00m e:\n",
      "File \u001b[0;32m/opt/homebrew/lib/python3.10/site-packages/google/resumable_media/requests/download.py:207\u001b[0m, in \u001b[0;36mDownload.consume.<locals>.retriable_request\u001b[0;34m()\u001b[0m\n\u001b[1;32m    203\u001b[0m     \u001b[38;5;28mself\u001b[39m\u001b[38;5;241m.\u001b[39m_object_generation \u001b[38;5;241m=\u001b[39m _helpers\u001b[38;5;241m.\u001b[39m_parse_generation_header(\n\u001b[1;32m    204\u001b[0m         result, \u001b[38;5;28mself\u001b[39m\u001b[38;5;241m.\u001b[39m_get_headers\n\u001b[1;32m    205\u001b[0m     )\n\u001b[0;32m--> 207\u001b[0m \u001b[38;5;28;43mself\u001b[39;49m\u001b[38;5;241;43m.\u001b[39;49m\u001b[43m_process_response\u001b[49m\u001b[43m(\u001b[49m\u001b[43mresult\u001b[49m\u001b[43m)\u001b[49m\n\u001b[1;32m    209\u001b[0m \u001b[38;5;28;01mif\u001b[39;00m \u001b[38;5;28mself\u001b[39m\u001b[38;5;241m.\u001b[39m_stream \u001b[38;5;129;01mis\u001b[39;00m \u001b[38;5;129;01mnot\u001b[39;00m \u001b[38;5;28;01mNone\u001b[39;00m:\n",
      "File \u001b[0;32m/opt/homebrew/lib/python3.10/site-packages/google/resumable_media/_download.py:188\u001b[0m, in \u001b[0;36mDownload._process_response\u001b[0;34m(self, response)\u001b[0m\n\u001b[1;32m    187\u001b[0m \u001b[38;5;28mself\u001b[39m\u001b[38;5;241m.\u001b[39m_finished \u001b[38;5;241m=\u001b[39m \u001b[38;5;28;01mTrue\u001b[39;00m\n\u001b[0;32m--> 188\u001b[0m \u001b[43m_helpers\u001b[49m\u001b[38;5;241;43m.\u001b[39;49m\u001b[43mrequire_status_code\u001b[49m\u001b[43m(\u001b[49m\n\u001b[1;32m    189\u001b[0m \u001b[43m    \u001b[49m\u001b[43mresponse\u001b[49m\u001b[43m,\u001b[49m\u001b[43m \u001b[49m\u001b[43m_ACCEPTABLE_STATUS_CODES\u001b[49m\u001b[43m,\u001b[49m\u001b[43m \u001b[49m\u001b[38;5;28;43mself\u001b[39;49m\u001b[38;5;241;43m.\u001b[39;49m\u001b[43m_get_status_code\u001b[49m\n\u001b[1;32m    190\u001b[0m \u001b[43m\u001b[49m\u001b[43m)\u001b[49m\n",
      "File \u001b[0;32m/opt/homebrew/lib/python3.10/site-packages/google/resumable_media/_helpers.py:105\u001b[0m, in \u001b[0;36mrequire_status_code\u001b[0;34m(response, status_codes, get_status_code, callback)\u001b[0m\n\u001b[1;32m    104\u001b[0m         callback()\n\u001b[0;32m--> 105\u001b[0m     \u001b[38;5;28;01mraise\u001b[39;00m common\u001b[38;5;241m.\u001b[39mInvalidResponse(\n\u001b[1;32m    106\u001b[0m         response,\n\u001b[1;32m    107\u001b[0m         \u001b[38;5;124m\"\u001b[39m\u001b[38;5;124mRequest failed with status code\u001b[39m\u001b[38;5;124m\"\u001b[39m,\n\u001b[1;32m    108\u001b[0m         status_code,\n\u001b[1;32m    109\u001b[0m         \u001b[38;5;124m\"\u001b[39m\u001b[38;5;124mExpected one of\u001b[39m\u001b[38;5;124m\"\u001b[39m,\n\u001b[1;32m    110\u001b[0m         \u001b[38;5;241m*\u001b[39mstatus_codes\n\u001b[1;32m    111\u001b[0m     )\n\u001b[1;32m    112\u001b[0m \u001b[38;5;28;01mreturn\u001b[39;00m status_code\n",
      "\u001b[0;31mInvalidResponse\u001b[0m: ('Request failed with status code', 404, 'Expected one of', <HTTPStatus.OK: 200>, <HTTPStatus.PARTIAL_CONTENT: 206>)",
      "\nDuring handling of the above exception, another exception occurred:\n",
      "\u001b[0;31mNotFound\u001b[0m                                  Traceback (most recent call last)",
      "Input \u001b[0;32mIn [67]\u001b[0m, in \u001b[0;36m<cell line: 3>\u001b[0;34m()\u001b[0m\n\u001b[1;32m      1\u001b[0m storage \u001b[38;5;241m=\u001b[39m Storage(bucket\u001b[38;5;241m=\u001b[39m\u001b[38;5;124m\"\u001b[39m\u001b[38;5;124mparkrun-au\u001b[39m\u001b[38;5;124m\"\u001b[39m)\n\u001b[0;32m----> 3\u001b[0m a\u001b[38;5;241m=\u001b[39m\u001b[43mstorage\u001b[49m\u001b[38;5;241;43m.\u001b[39;49m\u001b[43mget\u001b[49m\u001b[43m(\u001b[49m\u001b[38;5;124;43m\"\u001b[39;49m\u001b[38;5;124;43mneddw.json\u001b[39;49m\u001b[38;5;124;43m\"\u001b[39;49m\u001b[43m,\u001b[49m\u001b[43m \u001b[49m\u001b[43mdirectory\u001b[49m\u001b[38;5;241;43m=\u001b[39;49m\u001b[38;5;124;43m\"\u001b[39;49m\u001b[38;5;124;43mevents\u001b[39;49m\u001b[38;5;124;43m\"\u001b[39;49m\u001b[43m)\u001b[49m\n\u001b[1;32m      4\u001b[0m display(a)\n",
      "Input \u001b[0;32mIn [64]\u001b[0m, in \u001b[0;36mStorage.get\u001b[0;34m(self, file, directory, codable)\u001b[0m\n\u001b[1;32m     13\u001b[0m path \u001b[38;5;241m=\u001b[39m os\u001b[38;5;241m.\u001b[39mpath\u001b[38;5;241m.\u001b[39mjoin(directory, file)\n\u001b[1;32m     15\u001b[0m \u001b[38;5;28;01mwith\u001b[39;00m \u001b[38;5;28mself\u001b[39m\u001b[38;5;241m.\u001b[39mbucket\u001b[38;5;241m.\u001b[39mblob(path)\u001b[38;5;241m.\u001b[39mopen(mode\u001b[38;5;241m=\u001b[39m\u001b[38;5;124m\"\u001b[39m\u001b[38;5;124mr\u001b[39m\u001b[38;5;124m\"\u001b[39m) \u001b[38;5;28;01mas\u001b[39;00m blob:\n\u001b[0;32m---> 16\u001b[0m     \u001b[38;5;28;01mreturn\u001b[39;00m \u001b[43mcodable\u001b[49m\u001b[38;5;241;43m.\u001b[39;49m\u001b[43mvalue\u001b[49m\u001b[38;5;241;43m.\u001b[39;49m\u001b[43mdecode\u001b[49m\u001b[43m(\u001b[49m\u001b[43mblob\u001b[49m\u001b[38;5;241;43m=\u001b[39;49m\u001b[43mblob\u001b[49m\u001b[43m)\u001b[49m\n",
      "Input \u001b[0;32mIn [51]\u001b[0m, in \u001b[0;36mCodable.<lambda>\u001b[0;34m(blob)\u001b[0m\n\u001b[1;32m      8\u001b[0m \u001b[38;5;28;01mclass\u001b[39;00m \u001b[38;5;21;01mCodable\u001b[39;00m(enum\u001b[38;5;241m.\u001b[39mEnum):\n\u001b[1;32m     10\u001b[0m     text \u001b[38;5;241m=\u001b[39m Format(\n\u001b[1;32m     11\u001b[0m         encode\u001b[38;5;241m=\u001b[39m\u001b[38;5;124m\"\u001b[39m\u001b[38;5;124mplain/text\u001b[39m\u001b[38;5;124m\"\u001b[39m,\n\u001b[0;32m---> 12\u001b[0m         decode\u001b[38;5;241m=\u001b[39m\u001b[38;5;28;01mlambda\u001b[39;00m blob: \u001b[43mblob\u001b[49m\u001b[38;5;241;43m.\u001b[39;49m\u001b[43mread\u001b[49m\u001b[43m(\u001b[49m\u001b[43m)\u001b[49m\n\u001b[1;32m     13\u001b[0m     )\n\u001b[1;32m     15\u001b[0m     json \u001b[38;5;241m=\u001b[39m Format(\n\u001b[1;32m     16\u001b[0m         encode\u001b[38;5;241m=\u001b[39m\u001b[38;5;124m\"\u001b[39m\u001b[38;5;124mapplication/json\u001b[39m\u001b[38;5;124m\"\u001b[39m,\n\u001b[1;32m     17\u001b[0m         decode\u001b[38;5;241m=\u001b[39m\u001b[38;5;28;01mlambda\u001b[39;00m blob: json\u001b[38;5;241m.\u001b[39mload(blob)\n\u001b[1;32m     18\u001b[0m     )\n",
      "File \u001b[0;32m/opt/homebrew/lib/python3.10/site-packages/google/cloud/storage/fileio.py:142\u001b[0m, in \u001b[0;36mBlobReader.read\u001b[0;34m(self, size)\u001b[0m\n\u001b[1;32m    138\u001b[0m \u001b[38;5;66;03m# Download the blob. Checksumming must be disabled as we are using\u001b[39;00m\n\u001b[1;32m    139\u001b[0m \u001b[38;5;66;03m# chunked downloads, and the server only knows the checksum of the\u001b[39;00m\n\u001b[1;32m    140\u001b[0m \u001b[38;5;66;03m# entire file.\u001b[39;00m\n\u001b[1;32m    141\u001b[0m \u001b[38;5;28;01mtry\u001b[39;00m:\n\u001b[0;32m--> 142\u001b[0m     result \u001b[38;5;241m+\u001b[39m\u001b[38;5;241m=\u001b[39m \u001b[38;5;28;43mself\u001b[39;49m\u001b[38;5;241;43m.\u001b[39;49m\u001b[43m_blob\u001b[49m\u001b[38;5;241;43m.\u001b[39;49m\u001b[43mdownload_as_bytes\u001b[49m\u001b[43m(\u001b[49m\n\u001b[1;32m    143\u001b[0m \u001b[43m        \u001b[49m\u001b[43mstart\u001b[49m\u001b[38;5;241;43m=\u001b[39;49m\u001b[43mfetch_start\u001b[49m\u001b[43m,\u001b[49m\n\u001b[1;32m    144\u001b[0m \u001b[43m        \u001b[49m\u001b[43mend\u001b[49m\u001b[38;5;241;43m=\u001b[39;49m\u001b[43mfetch_end\u001b[49m\u001b[43m,\u001b[49m\n\u001b[1;32m    145\u001b[0m \u001b[43m        \u001b[49m\u001b[43mchecksum\u001b[49m\u001b[38;5;241;43m=\u001b[39;49m\u001b[38;5;28;43;01mNone\u001b[39;49;00m\u001b[43m,\u001b[49m\n\u001b[1;32m    146\u001b[0m \u001b[43m        \u001b[49m\u001b[43mretry\u001b[49m\u001b[38;5;241;43m=\u001b[39;49m\u001b[38;5;28;43mself\u001b[39;49m\u001b[38;5;241;43m.\u001b[39;49m\u001b[43m_retry\u001b[49m\u001b[43m,\u001b[49m\n\u001b[1;32m    147\u001b[0m \u001b[43m        \u001b[49m\u001b[38;5;241;43m*\u001b[39;49m\u001b[38;5;241;43m*\u001b[39;49m\u001b[38;5;28;43mself\u001b[39;49m\u001b[38;5;241;43m.\u001b[39;49m\u001b[43m_download_kwargs\u001b[49m\n\u001b[1;32m    148\u001b[0m \u001b[43m    \u001b[49m\u001b[43m)\u001b[49m\n\u001b[1;32m    149\u001b[0m \u001b[38;5;28;01mexcept\u001b[39;00m RequestRangeNotSatisfiable:\n\u001b[1;32m    150\u001b[0m     \u001b[38;5;66;03m# We've reached the end of the file. Python file objects should\u001b[39;00m\n\u001b[1;32m    151\u001b[0m     \u001b[38;5;66;03m# return an empty response in this case, not raise an error.\u001b[39;00m\n\u001b[1;32m    152\u001b[0m     \u001b[38;5;28;01mpass\u001b[39;00m\n",
      "File \u001b[0;32m/opt/homebrew/lib/python3.10/site-packages/google/cloud/storage/blob.py:1405\u001b[0m, in \u001b[0;36mBlob.download_as_bytes\u001b[0;34m(self, client, start, end, raw_download, if_etag_match, if_etag_not_match, if_generation_match, if_generation_not_match, if_metageneration_match, if_metageneration_not_match, timeout, checksum, retry)\u001b[0m\n\u001b[1;32m   1403\u001b[0m client \u001b[38;5;241m=\u001b[39m \u001b[38;5;28mself\u001b[39m\u001b[38;5;241m.\u001b[39m_require_client(client)\n\u001b[1;32m   1404\u001b[0m string_buffer \u001b[38;5;241m=\u001b[39m BytesIO()\n\u001b[0;32m-> 1405\u001b[0m \u001b[43mclient\u001b[49m\u001b[38;5;241;43m.\u001b[39;49m\u001b[43mdownload_blob_to_file\u001b[49m\u001b[43m(\u001b[49m\n\u001b[1;32m   1406\u001b[0m \u001b[43m    \u001b[49m\u001b[38;5;28;43mself\u001b[39;49m\u001b[43m,\u001b[49m\n\u001b[1;32m   1407\u001b[0m \u001b[43m    \u001b[49m\u001b[43mstring_buffer\u001b[49m\u001b[43m,\u001b[49m\n\u001b[1;32m   1408\u001b[0m \u001b[43m    \u001b[49m\u001b[43mstart\u001b[49m\u001b[38;5;241;43m=\u001b[39;49m\u001b[43mstart\u001b[49m\u001b[43m,\u001b[49m\n\u001b[1;32m   1409\u001b[0m \u001b[43m    \u001b[49m\u001b[43mend\u001b[49m\u001b[38;5;241;43m=\u001b[39;49m\u001b[43mend\u001b[49m\u001b[43m,\u001b[49m\n\u001b[1;32m   1410\u001b[0m \u001b[43m    \u001b[49m\u001b[43mraw_download\u001b[49m\u001b[38;5;241;43m=\u001b[39;49m\u001b[43mraw_download\u001b[49m\u001b[43m,\u001b[49m\n\u001b[1;32m   1411\u001b[0m \u001b[43m    \u001b[49m\u001b[43mif_etag_match\u001b[49m\u001b[38;5;241;43m=\u001b[39;49m\u001b[43mif_etag_match\u001b[49m\u001b[43m,\u001b[49m\n\u001b[1;32m   1412\u001b[0m \u001b[43m    \u001b[49m\u001b[43mif_etag_not_match\u001b[49m\u001b[38;5;241;43m=\u001b[39;49m\u001b[43mif_etag_not_match\u001b[49m\u001b[43m,\u001b[49m\n\u001b[1;32m   1413\u001b[0m \u001b[43m    \u001b[49m\u001b[43mif_generation_match\u001b[49m\u001b[38;5;241;43m=\u001b[39;49m\u001b[43mif_generation_match\u001b[49m\u001b[43m,\u001b[49m\n\u001b[1;32m   1414\u001b[0m \u001b[43m    \u001b[49m\u001b[43mif_generation_not_match\u001b[49m\u001b[38;5;241;43m=\u001b[39;49m\u001b[43mif_generation_not_match\u001b[49m\u001b[43m,\u001b[49m\n\u001b[1;32m   1415\u001b[0m \u001b[43m    \u001b[49m\u001b[43mif_metageneration_match\u001b[49m\u001b[38;5;241;43m=\u001b[39;49m\u001b[43mif_metageneration_match\u001b[49m\u001b[43m,\u001b[49m\n\u001b[1;32m   1416\u001b[0m \u001b[43m    \u001b[49m\u001b[43mif_metageneration_not_match\u001b[49m\u001b[38;5;241;43m=\u001b[39;49m\u001b[43mif_metageneration_not_match\u001b[49m\u001b[43m,\u001b[49m\n\u001b[1;32m   1417\u001b[0m \u001b[43m    \u001b[49m\u001b[43mtimeout\u001b[49m\u001b[38;5;241;43m=\u001b[39;49m\u001b[43mtimeout\u001b[49m\u001b[43m,\u001b[49m\n\u001b[1;32m   1418\u001b[0m \u001b[43m    \u001b[49m\u001b[43mchecksum\u001b[49m\u001b[38;5;241;43m=\u001b[39;49m\u001b[43mchecksum\u001b[49m\u001b[43m,\u001b[49m\n\u001b[1;32m   1419\u001b[0m \u001b[43m    \u001b[49m\u001b[43mretry\u001b[49m\u001b[38;5;241;43m=\u001b[39;49m\u001b[43mretry\u001b[49m\u001b[43m,\u001b[49m\n\u001b[1;32m   1420\u001b[0m \u001b[43m\u001b[49m\u001b[43m)\u001b[49m\n\u001b[1;32m   1421\u001b[0m \u001b[38;5;28;01mreturn\u001b[39;00m string_buffer\u001b[38;5;241m.\u001b[39mgetvalue()\n",
      "File \u001b[0;32m/opt/homebrew/lib/python3.10/site-packages/google/cloud/storage/client.py:1155\u001b[0m, in \u001b[0;36mClient.download_blob_to_file\u001b[0;34m(self, blob_or_uri, file_obj, start, end, raw_download, if_etag_match, if_etag_not_match, if_generation_match, if_generation_not_match, if_metageneration_match, if_metageneration_not_match, timeout, checksum, retry)\u001b[0m\n\u001b[1;32m   1142\u001b[0m     blob_or_uri\u001b[38;5;241m.\u001b[39m_do_download(\n\u001b[1;32m   1143\u001b[0m         transport,\n\u001b[1;32m   1144\u001b[0m         file_obj,\n\u001b[0;32m   (...)\u001b[0m\n\u001b[1;32m   1152\u001b[0m         retry\u001b[38;5;241m=\u001b[39mretry,\n\u001b[1;32m   1153\u001b[0m     )\n\u001b[1;32m   1154\u001b[0m \u001b[38;5;28;01mexcept\u001b[39;00m resumable_media\u001b[38;5;241m.\u001b[39mInvalidResponse \u001b[38;5;28;01mas\u001b[39;00m exc:\n\u001b[0;32m-> 1155\u001b[0m     \u001b[43m_raise_from_invalid_response\u001b[49m\u001b[43m(\u001b[49m\u001b[43mexc\u001b[49m\u001b[43m)\u001b[49m\n",
      "File \u001b[0;32m/opt/homebrew/lib/python3.10/site-packages/google/cloud/storage/blob.py:4455\u001b[0m, in \u001b[0;36m_raise_from_invalid_response\u001b[0;34m(error)\u001b[0m\n\u001b[1;32m   4449\u001b[0m     error_message \u001b[38;5;241m=\u001b[39m \u001b[38;5;28mstr\u001b[39m(error)\n\u001b[1;32m   4451\u001b[0m message \u001b[38;5;241m=\u001b[39m \u001b[38;5;124m\"\u001b[39m\u001b[38;5;132;01m{method}\u001b[39;00m\u001b[38;5;124m \u001b[39m\u001b[38;5;132;01m{url}\u001b[39;00m\u001b[38;5;124m: \u001b[39m\u001b[38;5;132;01m{error}\u001b[39;00m\u001b[38;5;124m\"\u001b[39m\u001b[38;5;241m.\u001b[39mformat(\n\u001b[1;32m   4452\u001b[0m     method\u001b[38;5;241m=\u001b[39mresponse\u001b[38;5;241m.\u001b[39mrequest\u001b[38;5;241m.\u001b[39mmethod, url\u001b[38;5;241m=\u001b[39mresponse\u001b[38;5;241m.\u001b[39mrequest\u001b[38;5;241m.\u001b[39murl, error\u001b[38;5;241m=\u001b[39merror_message\n\u001b[1;32m   4453\u001b[0m )\n\u001b[0;32m-> 4455\u001b[0m \u001b[38;5;28;01mraise\u001b[39;00m exceptions\u001b[38;5;241m.\u001b[39mfrom_http_status(response\u001b[38;5;241m.\u001b[39mstatus_code, message, response\u001b[38;5;241m=\u001b[39mresponse)\n",
      "\u001b[0;31mNotFound\u001b[0m: 404 GET https://storage.googleapis.com/download/storage/v1/b/parkrun-au/o/events%2Fneddw.json?alt=media: No such object: parkrun-au/events/neddw.json: ('Request failed with status code', 404, 'Expected one of', <HTTPStatus.OK: 200>, <HTTPStatus.PARTIAL_CONTENT: 206>)"
     ]
    }
   ],
   "source": [
    "storage = Storage(bucket=\"parkrun-au\")\n",
    "\n",
    "a=storage.get(\"neddw.json\", directory=\"events\")\n",
    "display(a)\n",
    "\n",
    "\n",
    "    \n",
    "# a=storage.get(\"new.json\", directory=\"events\", codable=Codable.json)\n",
    "# display(a)"
   ]
  },
  {
   "cell_type": "code",
   "execution_count": 9,
   "id": "ff30c53a",
   "metadata": {},
   "outputs": [],
   "source": [
    "client = storage.Client.from_service_account_json(\"parkrun-master.json\")"
   ]
  },
  {
   "cell_type": "code",
   "execution_count": 18,
   "id": "64e3eab2",
   "metadata": {},
   "outputs": [],
   "source": [
    "client.close()"
   ]
  },
  {
   "cell_type": "code",
   "execution_count": 17,
   "id": "71630498",
   "metadata": {},
   "outputs": [
    {
     "name": "stdout",
     "output_type": "stream",
     "text": [
      "[<Bucket: asia.artifacts.park-run.appspot.com>, <Bucket: gcf-sources-234280338116-australia-southeast1>, <Bucket: parkrun-au>]\n"
     ]
    }
   ],
   "source": [
    "buckets = list(client.list_buckets())\n",
    "print(buckets)"
   ]
  },
  {
   "cell_type": "code",
   "execution_count": 4,
   "id": "310af5de",
   "metadata": {},
   "outputs": [],
   "source": [
    "\n",
    "        \n",
    "#         def create_file(self, filename):\n",
    "#   \"\"\"Create a file.\n",
    "\n",
    "#   The retry_params specified in the open call will override the default\n",
    "#   retry params for this particular file handle.\n",
    "\n",
    "#   Args:\n",
    "#     filename: filename.\n",
    "#   \"\"\"\n",
    "#   self.response.write('Creating file %s\\n' % filename)\n",
    "\n",
    "#   write_retry_params = gcs.RetryParams(backoff_factor=1.1)\n",
    "#   gcs_file = gcs.open(filename,\n",
    "#                       'w',\n",
    "#                       content_type='text/plain',\n",
    "#                       options={'x-goog-meta-foo': 'foo',\n",
    "#                                'x-goog-meta-bar': 'bar'},\n",
    "#                       retry_params=write_retry_params)\n",
    "#   gcs_file.write('abcde\\n')\n",
    "#   gcs_file.write('f'*1024*4 + '\\n')\n",
    "#   gcs_file.close()\n",
    "#   self.tmp_filenames_to_clean_up.append(filename)\n"
   ]
  }
 ],
 "metadata": {
  "kernelspec": {
   "display_name": "Python 3 (ipykernel)",
   "language": "python",
   "name": "python3"
  },
  "language_info": {
   "codemirror_mode": {
    "name": "ipython",
    "version": 3
   },
   "file_extension": ".py",
   "mimetype": "text/x-python",
   "name": "python",
   "nbconvert_exporter": "python",
   "pygments_lexer": "ipython3",
   "version": "3.10.2"
  }
 },
 "nbformat": 4,
 "nbformat_minor": 5
}
