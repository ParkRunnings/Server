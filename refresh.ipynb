{
 "cells": [
  {
   "cell_type": "code",
   "execution_count": 1,
   "id": "b0730f6b",
   "metadata": {},
   "outputs": [],
   "source": [
    "import io\n",
    "import os\n",
    "import re\n",
    "import json\n",
    "import time\n",
    "import base64\n",
    "import logging\n",
    "import polyline\n",
    "\n",
    "from PIL import Image\n",
    "from typing import List\n",
    "from multiprocess import Pool\n",
    "\n",
    "from models.event import Event\n",
    "from models.course import Course, Coordinate\n",
    "from models.master import Master\n",
    "from models.state import State\n",
    "from models.exceptions import MapMatchError\n",
    "\n",
    "from utils.json_ import JSONEncoder\n",
    "from utils.storage import Storage, Codable\n",
    "\n",
    "import io\n",
    "import zipfile\n",
    "from bs4 import BeautifulSoup\n",
    "from collections import namedtuple"
   ]
  },
  {
   "cell_type": "code",
   "execution_count": 2,
   "id": "3892aeaf",
   "metadata": {},
   "outputs": [
    {
     "ename": "AttributeError",
     "evalue": "'MapMatchError' object has no attribute 'generate_state'",
     "output_type": "error",
     "traceback": [
      "\u001b[0;31m---------------------------------------------------------------------------\u001b[0m",
      "\u001b[0;31mAttributeError\u001b[0m                            Traceback (most recent call last)",
      "Input \u001b[0;32mIn [2]\u001b[0m, in \u001b[0;36m<cell line: 1>\u001b[0;34m()\u001b[0m\n\u001b[0;32m----> 1\u001b[0m \u001b[38;5;28;01mwith\u001b[39;00m Master\u001b[38;5;241m.\u001b[39mrefresh(bucket\u001b[38;5;241m=\u001b[39m\u001b[38;5;124m\"\u001b[39m\u001b[38;5;124mparkrun-au\u001b[39m\u001b[38;5;124m\"\u001b[39m) \u001b[38;5;28;01mas\u001b[39;00m master, Pool(\u001b[38;5;241m20\u001b[39m) \u001b[38;5;28;01mas\u001b[39;00m pool:\n\u001b[1;32m      3\u001b[0m     master\u001b[38;5;241m.\u001b[39mevents \u001b[38;5;241m=\u001b[39m [\n\u001b[1;32m      4\u001b[0m         event\u001b[38;5;241m.\u001b[39mget() \u001b[38;5;28;01mfor\u001b[39;00m event \u001b[38;5;129;01min\u001b[39;00m [\n\u001b[1;32m      5\u001b[0m             pool\u001b[38;5;241m.\u001b[39mapply_async(\n\u001b[0;32m   (...)\u001b[0m\n\u001b[1;32m      9\u001b[0m         ]\n\u001b[1;32m     10\u001b[0m     ]\n",
      "File \u001b[0;32m~/Projects/ParkRunnings Server/models/master.py:36\u001b[0m, in \u001b[0;36mMaster.__exit__\u001b[0;34m(self, type_, value, traceback)\u001b[0m\n\u001b[1;32m     34\u001b[0m \u001b[38;5;28;01mdef\u001b[39;00m \u001b[38;5;21m__exit__\u001b[39m(\u001b[38;5;28mself\u001b[39m, type_, value, traceback):\n\u001b[0;32m---> 36\u001b[0m     \u001b[38;5;28mself\u001b[39m\u001b[38;5;241m.\u001b[39mstate \u001b[38;5;241m=\u001b[39m \u001b[43mMaster\u001b[49m\u001b[38;5;241;43m.\u001b[39;49m\u001b[43mextract_state\u001b[49m\u001b[43m(\u001b[49m\u001b[43mevents\u001b[49m\u001b[38;5;241;43m=\u001b[39;49m\u001b[38;5;28;43mself\u001b[39;49m\u001b[38;5;241;43m.\u001b[39;49m\u001b[43mevents\u001b[49m\u001b[43m)\u001b[49m\n\u001b[1;32m     38\u001b[0m     \u001b[38;5;28mself\u001b[39m\u001b[38;5;241m.\u001b[39mwrite(storage\u001b[38;5;241m=\u001b[39m\u001b[38;5;28mself\u001b[39m\u001b[38;5;241m.\u001b[39m_storage_, uuid\u001b[38;5;241m=\u001b[39m\u001b[38;5;28mself\u001b[39m\u001b[38;5;241m.\u001b[39muuid)\n\u001b[1;32m     40\u001b[0m     _ \u001b[38;5;241m=\u001b[39m MasterState\u001b[38;5;241m.\u001b[39mrefresh(storage\u001b[38;5;241m=\u001b[39m\u001b[38;5;28mself\u001b[39m\u001b[38;5;241m.\u001b[39m_storage_, master\u001b[38;5;241m=\u001b[39m\u001b[38;5;28mself\u001b[39m, uuid\u001b[38;5;241m=\u001b[39m\u001b[38;5;28mself\u001b[39m\u001b[38;5;241m.\u001b[39muuid)\n",
      "File \u001b[0;32m~/Projects/ParkRunnings Server/models/master.py:81\u001b[0m, in \u001b[0;36mMaster.extract_state\u001b[0;34m(events)\u001b[0m\n\u001b[1;32m     78\u001b[0m \u001b[38;5;129m@staticmethod\u001b[39m\n\u001b[1;32m     79\u001b[0m \u001b[38;5;28;01mdef\u001b[39;00m \u001b[38;5;21mextract_state\u001b[39m(events: List[Event]) \u001b[38;5;241m-\u001b[39m\u001b[38;5;241m>\u001b[39m \u001b[38;5;28mstr\u001b[39m:\n\u001b[0;32m---> 81\u001b[0m     \u001b[38;5;28;01mreturn\u001b[39;00m generate_uuid(data\u001b[38;5;241m=\u001b[39m\u001b[38;5;124;43m\"\u001b[39;49m\u001b[38;5;124;43m|\u001b[39;49m\u001b[38;5;124;43m\"\u001b[39;49m\u001b[38;5;241;43m.\u001b[39;49m\u001b[43mjoin\u001b[49m\u001b[43m(\u001b[49m\u001b[43me\u001b[49m\u001b[38;5;241;43m.\u001b[39;49m\u001b[43mgenerate_state\u001b[49m\u001b[43m(\u001b[49m\u001b[43m)\u001b[49m\u001b[43m \u001b[49m\u001b[38;5;28;43;01mfor\u001b[39;49;00m\u001b[43m \u001b[49m\u001b[43me\u001b[49m\u001b[43m \u001b[49m\u001b[38;5;129;43;01min\u001b[39;49;00m\u001b[43m \u001b[49m\u001b[43mevents\u001b[49m\u001b[43m)\u001b[49m)\n",
      "File \u001b[0;32m~/Projects/ParkRunnings Server/models/master.py:81\u001b[0m, in \u001b[0;36m<genexpr>\u001b[0;34m(.0)\u001b[0m\n\u001b[1;32m     78\u001b[0m \u001b[38;5;129m@staticmethod\u001b[39m\n\u001b[1;32m     79\u001b[0m \u001b[38;5;28;01mdef\u001b[39;00m \u001b[38;5;21mextract_state\u001b[39m(events: List[Event]) \u001b[38;5;241m-\u001b[39m\u001b[38;5;241m>\u001b[39m \u001b[38;5;28mstr\u001b[39m:\n\u001b[0;32m---> 81\u001b[0m     \u001b[38;5;28;01mreturn\u001b[39;00m generate_uuid(data\u001b[38;5;241m=\u001b[39m\u001b[38;5;124m\"\u001b[39m\u001b[38;5;124m|\u001b[39m\u001b[38;5;124m\"\u001b[39m\u001b[38;5;241m.\u001b[39mjoin(\u001b[43me\u001b[49m\u001b[38;5;241;43m.\u001b[39;49m\u001b[43mgenerate_state\u001b[49m() \u001b[38;5;28;01mfor\u001b[39;00m e \u001b[38;5;129;01min\u001b[39;00m events))\n",
      "\u001b[0;31mAttributeError\u001b[0m: 'MapMatchError' object has no attribute 'generate_state'"
     ]
    }
   ],
   "source": [
    "with Master.refresh(bucket=\"parkrun-au\") as master, Pool(20) as pool:\n",
    "    \n",
    "    async_events = [\n",
    "        event.get() for event in [\n",
    "            pool.apply_async(\n",
    "                master.refresh_event, \n",
    "                kwds={\"bucket\": master.bucket, \"data\": data}\n",
    "            ) for data in list(master)\n",
    "        ]\n",
    "    ]\n",
    "    \n",
    "    master.events = [event for event in async_events if isinstance(event, Event)]\n",
    "    \n",
    "    exceptions = [event for event in async_events if not isinstance(event, Event)]\n",
    "    \n",
    "    # Email contents\n",
    "    html =  f\"\"\"\n",
    "        <html>\n",
    "            <p>There were {len(exceptions)} exceptions found in the \n",
    "        </html>\n",
    "    \"\"\"\n",
    "    \n",
    "    \n",
    "    <!DOCTYPE html PUBLIC \"-//W3C//DTD XHTML 1.0 Transitional//EN\" \"http://www.w3.org/TR/xhtml1/DTD/xhtml1-transitional.dtd\"><html xmlns=\"http://www.w3.org/1999/xhtml\" xmlns:v=\"urn:schemas-microsoft-com:vml\" xmlns:o=\"urn:schemas-microsoft-com:office:office\"><head><meta http-equiv=\"Content-Type\" content=\"text/html; charset=UTF-8\"/><meta name=\"viewport\" content=\"width=device-width, initial-scale=1.0\"/><title>Portfolio - Responsive Email Template</title><style type=\"text/css\">table{{font-family:Arial,sans-serif;-webkit-font-smoothing:antialiased;-moz-font-smoothing:antialiased;font-smoothing:antialiased}}@media only screen and (max-width: 700px){{.full-width-container{{padding:0 !important}}.container{{width:100% !important}}.header td{{padding:30px 40px 30px 40px !important}}.hero-subheader__title{{padding:40px 40px 0px 40px !important}}.hero-subheader__content{{padding:70px 40px 90px 40px !important}}.info-bullets{{display:block !important}}.info-bullets tr{{display:block !important}}.info-bullets td{{display:block !important}}.info-bullets tbody{{display:block}}.info-bullets__icon{{text-align:center;padding:0 0 15px 0 !important}}.info-bullets__content{{text-align:center}}.info-bullets__block{{padding:25px !important}}.cta-block__button{{padding:0 15px 0 15px !important}}}}</style><!--[if gte mso 9]><xml> <o:OfficeDocumentSettings> <o:AllowPNG/> <o:PixelsPerInch>96</o:PixelsPerInch> </o:OfficeDocumentSettings> </xml><![endif]--></head><body style=\"padding: 0; margin: 0;\" bgcolor=\"#404040\"> <span style=\"color:transparent !important; overflow:hidden !important; display:none !important; line-height:0px !important; height:0 !important; opacity:0 !important; visibility:hidden !important; width:0 !important; mso-hide:all;\">You've been invited by {invitee.fullname} to join the Remi Forecasting platform</span><table class=\"full-width-container\" border=\"0\" cellpadding=\"0\" cellspacing=\"0\" height=\"100%\" width=\"100%\" bgcolor=\"#404040\" style=\"width: 100%; height: 100%; padding: 30px 0 30px 0;\"><tr><td align=\"center\" valign=\"top\"><table class=\"container\" border=\"0\" cellpadding=\"0\" cellspacing=\"0\" width=\"700\" bgcolor=\"#212121\" style=\"width: 700px;\"><tr><td align=\"center\" valign=\"top\"><table class=\"container header\" border=\"0\" cellpadding=\"0\" cellspacing=\"0\" width=\"620\" style=\"width: 620px;\"><tr><td style=\"padding: 30px 0 10px 0; border-bottom: solid 2px #404040;\" align=\"left\"> <a href=\"https://www.remi.ai\" style=\"font-size: 30px; text-decoration: none; color: #35F2B4; font-weight: 700;\">remı</a></td></tr></table><table class=\"container hero-subheader\" border=\"0\" cellpadding=\"0\" cellspacing=\"0\" width=\"620\" style=\"width: 620px;\"><tr><td class=\"hero-subheader__title\" style=\"font-size: 40px; font-weight: bold; padding: 40px 0 0 0; color: #ffffff;\" align=\"left\">Welcome to the Remi AI forecasting platform.</td></tr><tr><td class=\"hero-subheader__content\" style=\"font-size: 16px; line-height: 27px; color: #969696; padding: 70px 60px 90px 0;\" align=\"left\">Hi {user.name},<br><br>You’ve been invited to join the <i>{Auth0.get_client_id()}</i> platform instance by {invitee.fullname}. Just click on the link below to complete your account set up.</td></tr><tr><td align=\"center\"><table border=\"0\" cellpadding=\"0\" cellspacing=\"0\"><tr><td class=\"cta-block__button\" width=\"230\" align=\"center\" style=\"width: 200px;\"> <a href=\"{ticket}\" style=\"color: #ffffff; text-decoration: none; padding: 15px 20px; display: block; text-align: center; font-size: 16px; background-color: #F36C56; border-radius: 10px; font-weight: 700;\">Accept Invitation</a></td></tr></table></td></tr><tr><td class=\"hero-subheader__content\" style=\"text-align: center; font-size: 12px; line-height: 27px; color: #969696; padding: 80px 60px 90px 0;\" align=\"left\">This link will expire in 5 days but you can ask your administrator to resend a confirmation email.</td></tr></table><table class=\"container\" border=\"0\" cellpadding=\"0\" cellspacing=\"0\" width=\"100%\" align=\"center\"><tr><td align=\"center\"><table class=\"container\" border=\"0\" cellpadding=\"0\" cellspacing=\"0\" width=\"620\" align=\"center\" style=\"border-top: solid 2px #404040; width: 620px;\"><tr><td style=\"color: #d5d5d5; text-align: center; font-size: 15px; padding: 30px 0 40px 0; line-height: 22px;\">© Remi AI {datetime.date.today().year} – All Rights Reserved</td></tr></table></td></tr></table></td></tr></table></td></tr></table></body></html>\"\"\"\n",
    "\n",
    "\n",
    "    # Construct the email\n",
    "    message = MIMEMultipart(\"alternative\")\n",
    "    message[\"Subject\"] = \"You've been invited to the Remi AI Platform\"\n",
    "    message[\"From\"] = \"noreply@remi.ai\"\n",
    "    message[\"To\"] = user.email\n",
    "\n",
    "    message.attach(MIMEText(html, \"html\"))\n",
    "\n",
    "    # Send the invitation email\n",
    "    with smtplib.SMTP(\"smtp.office365.com\", 587) as server:\n",
    "        server.ehlo()\n",
    "        server.starttls()\n",
    "        server.ehlo()\n",
    "        server.login(\"noreply@remi.ai\", \"Pow00658\")\n",
    "        server.sendmail(\"noreply@remi.ai\", user.email, message.as_string())\n",
    "\n",
    "    return user"
   ]
  },
  {
   "cell_type": "code",
   "execution_count": 6,
   "id": "2b5b4ff5",
   "metadata": {},
   "outputs": [
    {
     "data": {
      "text/plain": [
       "[models.exceptions.MapMatchError(\"uuid: 83036295-3ec7-54ee-a70a-f51f4022f404, https://www.parkrun.ie/oldbridge/course, Unable to find a suitable key match: keys: dict_keys(['oldbridge']) - bank: ['^route$', '^course$', 'route', 'course', 'parkrun']\")]"
      ]
     },
     "execution_count": 6,
     "metadata": {},
     "output_type": "execute_result"
    }
   ],
   "source": [
    "[e for e in master.events if not isinstance(e, Event)]"
   ]
  },
  {
   "cell_type": "code",
   "execution_count": 3,
   "id": "51375340",
   "metadata": {},
   "outputs": [],
   "source": [
    "with Master.refresh(bucket=\"parkrun-au\", uuid=\"tests/master_a\") as master_test:\n",
    "    \n",
    "    master_test.events = master.events"
   ]
  },
  {
   "cell_type": "code",
   "execution_count": 4,
   "id": "b289c723",
   "metadata": {},
   "outputs": [],
   "source": [
    "with Master.refresh(bucket=\"parkrun-au\", uuid=\"tests/master_b\") as master_test:\n",
    "    \n",
    "    master_test.events = [e for e in master.events if e.uuid in [\n",
    "        \"618cb4d4-8687-5b12-a7c4-d3551b275ef5\", \n",
    "        \"46236ebe-65df-50c7-99b8-74735630d280\"\n",
    "    ]]"
   ]
  },
  {
   "cell_type": "code",
   "execution_count": 5,
   "id": "5851bab7",
   "metadata": {},
   "outputs": [],
   "source": [
    "with Master.refresh(bucket=\"parkrun-au\", uuid=\"tests/master_c\") as master_test:\n",
    "    \n",
    "    master_test.events = [e for e in master.events if e.uuid in [\n",
    "        \"618cb4d4-8687-5b12-a7c4-d3551b275ef5\"\n",
    "    ]]"
   ]
  },
  {
   "cell_type": "code",
   "execution_count": 6,
   "id": "eb01fe89",
   "metadata": {},
   "outputs": [],
   "source": [
    "with Master.refresh(bucket=\"parkrun-au\", uuid=\"tests/master_d\") as master_test:\n",
    "    \n",
    "    master_test.events = []"
   ]
  },
  {
   "cell_type": "code",
   "execution_count": 7,
   "id": "dcd8f63b",
   "metadata": {},
   "outputs": [],
   "source": [
    "with Master.refresh(bucket=\"parkrun-au\", uuid=\"tests/master_e\") as master_test:\n",
    "    \n",
    "    master_test.events = master.events[0:100]"
   ]
  },
  {
   "cell_type": "code",
   "execution_count": 8,
   "id": "79d38d05",
   "metadata": {},
   "outputs": [],
   "source": [
    "with Master.refresh(bucket=\"parkrun-au\") as master:\n",
    "    \n",
    "    master.events = "
   ]
  },
  {
   "cell_type": "code",
   "execution_count": 4,
   "id": "4198d55a",
   "metadata": {},
   "outputs": [
    {
     "data": {
      "text/plain": [
       "[Event(uuid='618cb4d4-8687-5b12-a7c4-d3551b275ef5', name='St Peters', country='Australia', latitude=-33.907658, longitude=151.18219, start='08:00', start_dst='08:00', timezone='Australia/Sydney', mid='zj7h2Fr7knm4.kcrGG0GOkgi0', version='1.0.1')]"
      ]
     },
     "execution_count": 4,
     "metadata": {},
     "output_type": "execute_result"
    }
   ],
   "source": [
    "[e for e in master.events if e.uuid == \"618cb4d4-8687-5b12-a7c4-d3551b275ef5\"]"
   ]
  },
  {
   "cell_type": "code",
   "execution_count": 2,
   "id": "51a711d6",
   "metadata": {},
   "outputs": [],
   "source": [
    "# Old Process\n",
    "# \n",
    "# with Master.refresh(storage=Storage(bucket=\"parkrun-au\")) as master:\n",
    "    \n",
    "#     for data in master:\n",
    "        \n",
    "#         event = Event.get(storage=storage, data=data)\n",
    "#         course = Course.get(storage=storage, event=event)\n",
    "#         state = State.refresh(storage=storage, event=event, course=course)\n",
    "        \n",
    "#         master.add(event=event)"
   ]
  },
  {
   "cell_type": "code",
   "execution_count": null,
   "id": "4fa4797b",
   "metadata": {},
   "outputs": [],
   "source": []
  }
 ],
 "metadata": {
  "kernelspec": {
   "display_name": "Python 3 (ipykernel)",
   "language": "python",
   "name": "python3"
  },
  "language_info": {
   "codemirror_mode": {
    "name": "ipython",
    "version": 3
   },
   "file_extension": ".py",
   "mimetype": "text/x-python",
   "name": "python",
   "nbconvert_exporter": "python",
   "pygments_lexer": "ipython3",
   "version": "3.10.6"
  }
 },
 "nbformat": 4,
 "nbformat_minor": 5
}
